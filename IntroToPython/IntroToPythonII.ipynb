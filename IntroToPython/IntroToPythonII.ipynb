{
  "nbformat": 4,
  "nbformat_minor": 0,
  "metadata": {
    "kernelspec": {
      "display_name": "Python 3",
      "language": "python",
      "name": "python3"
    },
    "language_info": {
      "codemirror_mode": {
        "name": "ipython",
        "version": 3
      },
      "file_extension": ".py",
      "mimetype": "text/x-python",
      "name": "python",
      "nbconvert_exporter": "python",
      "pygments_lexer": "ipython3",
      "version": "3.6.8"
    },
    "toc": {
      "base_numbering": 1,
      "nav_menu": {},
      "number_sections": true,
      "sideBar": true,
      "skip_h1_title": false,
      "title_cell": "Table of Contents",
      "title_sidebar": "Contents",
      "toc_cell": true,
      "toc_position": {},
      "toc_section_display": true,
      "toc_window_display": true
    },
    "colab": {
      "name": "IntroToPythonII.ipynb",
      "provenance": [],
      "include_colab_link": true
    }
  },
  "cells": [
    {
      "cell_type": "markdown",
      "metadata": {
        "id": "view-in-github",
        "colab_type": "text"
      },
      "source": [
        "<a href=\"https://colab.research.google.com/github/Scientific-computing-Math-2341/Lectures/blob/master/IntroToPython/IntroToPythonII.ipynb\" target=\"_parent\"><img src=\"https://colab.research.google.com/assets/colab-badge.svg\" alt=\"Open In Colab\"/></a>"
      ]
    },
    {
      "cell_type": "markdown",
      "metadata": {
        "toc": true,
        "id": "ts2y8gbL7c8_",
        "colab_type": "text"
      },
      "source": [
        "<h1>Table of Contents<span class=\"tocSkip\"></span></h1>\n",
        "<div class=\"toc\"><ul class=\"toc-item\"><li><span><a href=\"#Intro-to-Python-II\" data-toc-modified-id=\"Intro-to-Python-II-1\"><span class=\"toc-item-num\">1&nbsp;&nbsp;</span>Intro to Python II</a></span><ul class=\"toc-item\"><li><span><a href=\"#Programming-Logic\" data-toc-modified-id=\"Programming-Logic-1.1\"><span class=\"toc-item-num\">1.1&nbsp;&nbsp;</span>Programming Logic</a></span></li><li><span><a href=\"#Control-Flow\" data-toc-modified-id=\"Control-Flow-1.2\"><span class=\"toc-item-num\">1.2&nbsp;&nbsp;</span>Control Flow</a></span></li></ul></li></ul></div>"
      ]
    },
    {
      "cell_type": "markdown",
      "metadata": {
        "id": "MnHp5i1u7c9G",
        "colab_type": "text"
      },
      "source": [
        "# Intro to Python II\n",
        "\n",
        "In this lesson we will learn some more features of python. \n",
        "\n",
        "* Lists \n",
        "\n",
        "* Logical statements\n",
        "\n",
        "* Loops\n",
        "\n",
        "* Basic Plots"
      ]
    },
    {
      "cell_type": "markdown",
      "metadata": {
        "id": "IhEP-lM87fpj",
        "colab_type": "text"
      },
      "source": [
        "## Lists in Python\n",
        "\n",
        "Lists enable us to store a collection of objects all under one name. \n",
        "\n",
        "Lists are denoted in python using square brackets []\n",
        "\n",
        "l=[]\n",
        "\n",
        "makes an empty list.\n",
        "\n",
        "Python uses **zero indices** for lists. \n",
        "\n",
        "a=[1,2,3]\n",
        "\n",
        "a[0] will be 1\n",
        "\n",
        "a[1] will be 2"
      ]
    },
    {
      "cell_type": "code",
      "metadata": {
        "id": "PUPDcG167c9L",
        "colab_type": "code",
        "colab": {}
      },
      "source": [
        "mylist=[1,2,3] #Make a list of integers, use square brackets\n"
      ],
      "execution_count": 0,
      "outputs": []
    },
    {
      "cell_type": "code",
      "metadata": {
        "id": "HDrZ2MeH7c9Z",
        "colab_type": "code",
        "outputId": "87f47887-82ba-4ce9-c9cd-2121282a066d",
        "colab": {
          "base_uri": "https://localhost:8080/",
          "height": 35
        }
      },
      "source": [
        "#Add 9 to the back of the list\n",
        "\n",
        "mylist.append(9)\n",
        "print(mylist)"
      ],
      "execution_count": 2,
      "outputs": [
        {
          "output_type": "stream",
          "text": [
            "[1, 2, 3, 9]\n"
          ],
          "name": "stdout"
        }
      ]
    },
    {
      "cell_type": "code",
      "metadata": {
        "id": "1_z7teLN7c9m",
        "colab_type": "code",
        "outputId": "4ac3719a-0da5-408e-ed7d-e614260f2e48",
        "colab": {
          "base_uri": "https://localhost:8080/",
          "height": 35
        }
      },
      "source": [
        "# I can add diffirent types to a python list\n",
        "\n",
        "mylist.append(\"hello\")\n",
        "\n",
        "print(mylist)"
      ],
      "execution_count": 3,
      "outputs": [
        {
          "output_type": "stream",
          "text": [
            "[1, 2, 3, 9, 'hello']\n"
          ],
          "name": "stdout"
        }
      ]
    },
    {
      "cell_type": "code",
      "metadata": {
        "id": "gvt6Vapw-1Di",
        "colab_type": "code",
        "colab": {
          "base_uri": "https://localhost:8080/",
          "height": 35
        },
        "outputId": "88c3eab7-e13d-4e39-cb4d-86430fb0efb7"
      },
      "source": [
        "mylist[0]"
      ],
      "execution_count": 4,
      "outputs": [
        {
          "output_type": "execute_result",
          "data": {
            "text/plain": [
              "1"
            ]
          },
          "metadata": {
            "tags": []
          },
          "execution_count": 4
        }
      ]
    },
    {
      "cell_type": "code",
      "metadata": {
        "id": "tKFK8f3D-8ri",
        "colab_type": "code",
        "colab": {
          "base_uri": "https://localhost:8080/",
          "height": 172
        },
        "outputId": "26190e2e-4a49-41e8-c6d1-e1c265230230"
      },
      "source": [
        "#Asking for an entry which is beyond the list will give an error\n",
        "\n",
        "mylist[10]"
      ],
      "execution_count": 5,
      "outputs": [
        {
          "output_type": "error",
          "ename": "IndexError",
          "evalue": "ignored",
          "traceback": [
            "\u001b[0;31m---------------------------------------------------------------------------\u001b[0m",
            "\u001b[0;31mIndexError\u001b[0m                                Traceback (most recent call last)",
            "\u001b[0;32m<ipython-input-5-4eac906abbde>\u001b[0m in \u001b[0;36m<module>\u001b[0;34m()\u001b[0m\n\u001b[0;32m----> 1\u001b[0;31m \u001b[0mmylist\u001b[0m\u001b[0;34m[\u001b[0m\u001b[0;36m10\u001b[0m\u001b[0;34m]\u001b[0m\u001b[0;34m\u001b[0m\u001b[0;34m\u001b[0m\u001b[0m\n\u001b[0m",
            "\u001b[0;31mIndexError\u001b[0m: list index out of range"
          ]
        }
      ]
    },
    {
      "cell_type": "code",
      "metadata": {
        "id": "1iQ76BhE_FA6",
        "colab_type": "code",
        "colab": {
          "base_uri": "https://localhost:8080/",
          "height": 35
        },
        "outputId": "97023c38-1cf5-4c32-e149-5963b76d5b2f"
      },
      "source": [
        "#This will give you the number of elements in a list\n",
        "\n",
        "len(mylist)"
      ],
      "execution_count": 7,
      "outputs": [
        {
          "output_type": "execute_result",
          "data": {
            "text/plain": [
              "5"
            ]
          },
          "metadata": {
            "tags": []
          },
          "execution_count": 7
        }
      ]
    },
    {
      "cell_type": "code",
      "metadata": {
        "id": "aQYD_mP3_Mio",
        "colab_type": "code",
        "colab": {}
      },
      "source": [
        ""
      ],
      "execution_count": 0,
      "outputs": []
    },
    {
      "cell_type": "markdown",
      "metadata": {
        "id": "dzfPXkw9_Qda",
        "colab_type": "text"
      },
      "source": [
        "### Slice Lists\n",
        "\n",
        "Python also has some neat ways to grap **slices** of lists."
      ]
    },
    {
      "cell_type": "code",
      "metadata": {
        "id": "3k5qZMqo_aNA",
        "colab_type": "code",
        "colab": {
          "base_uri": "https://localhost:8080/",
          "height": 35
        },
        "outputId": "19ed5be9-b87d-4385-83f3-3b2a00e60573"
      },
      "source": [
        "mylist[0:2]"
      ],
      "execution_count": 8,
      "outputs": [
        {
          "output_type": "execute_result",
          "data": {
            "text/plain": [
              "[1, 2]"
            ]
          },
          "metadata": {
            "tags": []
          },
          "execution_count": 8
        }
      ]
    },
    {
      "cell_type": "markdown",
      "metadata": {
        "id": "9lQdqqI67c9w",
        "colab_type": "text"
      },
      "source": [
        "## Programming Logic\n",
        "\n",
        "Basic logical operators in python\n",
        "\n",
        "* Compairson: ==, <=, >=, >, < (equality, less than of equal to, greater than or equal to, greater, lesser)\n",
        "* Identity operators: is, is not\n",
        "* Membership operators: in, not in\n",
        "* Logical operators: and, or, not\n"
      ]
    },
    {
      "cell_type": "code",
      "metadata": {
        "id": "Jb_8jO_U_LQz",
        "colab_type": "code",
        "colab": {}
      },
      "source": [
        ""
      ],
      "execution_count": 0,
      "outputs": []
    },
    {
      "cell_type": "code",
      "metadata": {
        "id": "5F3C5s2H7c9z",
        "colab_type": "code",
        "outputId": "2d11d47d-b22f-41b0-c4aa-a58945aa4a0f",
        "colab": {}
      },
      "source": [
        "1==2"
      ],
      "execution_count": 0,
      "outputs": [
        {
          "output_type": "execute_result",
          "data": {
            "text/plain": [
              "False"
            ]
          },
          "metadata": {
            "tags": []
          },
          "execution_count": 2
        }
      ]
    },
    {
      "cell_type": "code",
      "metadata": {
        "id": "KWosC1ES7c97",
        "colab_type": "code",
        "outputId": "c77e1e98-3d51-43bc-ec85-86214e8b4a36",
        "colab": {}
      },
      "source": [
        "1=1 #Make sure you use double equal"
      ],
      "execution_count": 0,
      "outputs": [
        {
          "output_type": "error",
          "ename": "SyntaxError",
          "evalue": "can't assign to literal (<ipython-input-3-c59fb5224dc0>, line 1)",
          "traceback": [
            "\u001b[0;36m  File \u001b[0;32m\"<ipython-input-3-c59fb5224dc0>\"\u001b[0;36m, line \u001b[0;32m1\u001b[0m\n\u001b[0;31m    1=1\u001b[0m\n\u001b[0m       ^\u001b[0m\n\u001b[0;31mSyntaxError\u001b[0m\u001b[0;31m:\u001b[0m can't assign to literal\n"
          ]
        }
      ]
    },
    {
      "cell_type": "code",
      "metadata": {
        "id": "GyHgOt_p7c-C",
        "colab_type": "code",
        "outputId": "ad56262b-f968-448a-ba72-4a5c7777e7e4",
        "colab": {}
      },
      "source": [
        "4>3.99"
      ],
      "execution_count": 0,
      "outputs": [
        {
          "output_type": "execute_result",
          "data": {
            "text/plain": [
              "True"
            ]
          },
          "metadata": {
            "tags": []
          },
          "execution_count": 4
        }
      ]
    },
    {
      "cell_type": "code",
      "metadata": {
        "id": "8AOyB4VZ7c-I",
        "colab_type": "code",
        "outputId": "bc9e71a9-c451-4898-9f9c-cb5369ac3c5c",
        "colab": {}
      },
      "source": [
        ""
      ],
      "execution_count": 0,
      "outputs": [
        {
          "output_type": "execute_result",
          "data": {
            "text/plain": [
              "False"
            ]
          },
          "metadata": {
            "tags": []
          },
          "execution_count": 5
        }
      ]
    },
    {
      "cell_type": "markdown",
      "metadata": {
        "id": "FZ8vOFe47c-Q",
        "colab_type": "text"
      },
      "source": [
        "## Control Flow"
      ]
    },
    {
      "cell_type": "code",
      "metadata": {
        "id": "pkq0_V6a7c-S",
        "colab_type": "code",
        "colab": {
          "base_uri": "https://localhost:8080/",
          "height": 197
        },
        "outputId": "d1428b25-3a6a-45af-90ea-85292b79b1d3"
      },
      "source": [
        "for x in range(0,10):\n",
        "  print(x)"
      ],
      "execution_count": 9,
      "outputs": [
        {
          "output_type": "stream",
          "text": [
            "0\n",
            "1\n",
            "2\n",
            "3\n",
            "4\n",
            "5\n",
            "6\n",
            "7\n",
            "8\n",
            "9\n"
          ],
          "name": "stdout"
        }
      ]
    },
    {
      "cell_type": "code",
      "metadata": {
        "id": "yd8qXpXp_tIX",
        "colab_type": "code",
        "colab": {}
      },
      "source": [
        ""
      ],
      "execution_count": 0,
      "outputs": []
    }
  ]
}
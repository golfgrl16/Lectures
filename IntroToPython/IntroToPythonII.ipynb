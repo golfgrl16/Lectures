{
  "nbformat": 4,
  "nbformat_minor": 0,
  "metadata": {
    "kernelspec": {
      "display_name": "Python 3",
      "language": "python",
      "name": "python3"
    },
    "language_info": {
      "codemirror_mode": {
        "name": "ipython",
        "version": 3
      },
      "file_extension": ".py",
      "mimetype": "text/x-python",
      "name": "python",
      "nbconvert_exporter": "python",
      "pygments_lexer": "ipython3",
      "version": "3.6.8"
    },
    "toc": {
      "base_numbering": 1,
      "nav_menu": {},
      "number_sections": true,
      "sideBar": true,
      "skip_h1_title": false,
      "title_cell": "Table of Contents",
      "title_sidebar": "Contents",
      "toc_cell": true,
      "toc_position": {},
      "toc_section_display": true,
      "toc_window_display": true
    },
    "colab": {
      "name": "IntroToPythonII.ipynb",
      "provenance": [],
      "include_colab_link": true
    }
  },
  "cells": [
    {
      "cell_type": "markdown",
      "metadata": {
        "id": "view-in-github",
        "colab_type": "text"
      },
      "source": [
        "<a href=\"https://colab.research.google.com/github/Scientific-computing-Math-2341/Lectures/blob/master/IntroToPython/IntroToPythonII.ipynb\" target=\"_parent\"><img src=\"https://colab.research.google.com/assets/colab-badge.svg\" alt=\"Open In Colab\"/></a>"
      ]
    },
    {
      "cell_type": "markdown",
      "metadata": {
        "toc": true,
        "id": "ts2y8gbL7c8_",
        "colab_type": "text"
      },
      "source": [
        "<h1>Table of Contents<span class=\"tocSkip\"></span></h1>\n",
        "<div class=\"toc\"><ul class=\"toc-item\"><li><span><a href=\"#Intro-to-Python-II\" data-toc-modified-id=\"Intro-to-Python-II-1\"><span class=\"toc-item-num\">1&nbsp;&nbsp;</span>Intro to Python II</a></span><ul class=\"toc-item\"><li><span><a href=\"#Programming-Logic\" data-toc-modified-id=\"Programming-Logic-1.1\"><span class=\"toc-item-num\">1.1&nbsp;&nbsp;</span>Programming Logic</a></span></li><li><span><a href=\"#Control-Flow\" data-toc-modified-id=\"Control-Flow-1.2\"><span class=\"toc-item-num\">1.2&nbsp;&nbsp;</span>Control Flow</a></span></li></ul></li></ul></div>"
      ]
    },
    {
      "cell_type": "markdown",
      "metadata": {
        "id": "MnHp5i1u7c9G",
        "colab_type": "text"
      },
      "source": [
        "# Intro to Python II\n",
        "\n",
        "In this lesson we will learn some more features of python. \n",
        "\n",
        "* Lists \n",
        "\n",
        "* Logical statements\n",
        "\n",
        "* Control Flow"
      ]
    },
    {
      "cell_type": "markdown",
      "metadata": {
        "id": "IhEP-lM87fpj",
        "colab_type": "text"
      },
      "source": [
        "## Lists in Python\n",
        "\n",
        "Lists enable us to store a collection of objects all under one name. \n",
        "\n",
        "Lists are denoted in python using square brackets []\n",
        "\n",
        "l=[]\n",
        "\n",
        "makes an empty list.\n",
        "\n",
        "Python uses **zero indices** for lists. \n",
        "\n",
        "a=[1,2,3]\n",
        "\n",
        "a[0] will be 1\n",
        "\n",
        "a[1] will be 2"
      ]
    },
    {
      "cell_type": "code",
      "metadata": {
        "id": "PUPDcG167c9L",
        "colab_type": "code",
        "colab": {}
      },
      "source": [
        "mylist=[1,2,3] #Make a list of integers, use square brackets\n"
      ],
      "execution_count": 0,
      "outputs": []
    },
    {
      "cell_type": "code",
      "metadata": {
        "id": "HDrZ2MeH7c9Z",
        "colab_type": "code",
        "outputId": "87f47887-82ba-4ce9-c9cd-2121282a066d",
        "colab": {
          "base_uri": "https://localhost:8080/",
          "height": 35
        }
      },
      "source": [
        "#Add 9 to the back of the list\n",
        "\n",
        "mylist.append(9)\n",
        "print(mylist)"
      ],
      "execution_count": 0,
      "outputs": [
        {
          "output_type": "stream",
          "text": [
            "[1, 2, 3, 9]\n"
          ],
          "name": "stdout"
        }
      ]
    },
    {
      "cell_type": "code",
      "metadata": {
        "id": "1_z7teLN7c9m",
        "colab_type": "code",
        "outputId": "4ac3719a-0da5-408e-ed7d-e614260f2e48",
        "colab": {
          "base_uri": "https://localhost:8080/",
          "height": 35
        }
      },
      "source": [
        "# I can add diffirent types to a python list\n",
        "\n",
        "mylist.append(\"hello\")\n",
        "\n",
        "print(mylist)"
      ],
      "execution_count": 0,
      "outputs": [
        {
          "output_type": "stream",
          "text": [
            "[1, 2, 3, 9, 'hello']\n"
          ],
          "name": "stdout"
        }
      ]
    },
    {
      "cell_type": "code",
      "metadata": {
        "id": "gvt6Vapw-1Di",
        "colab_type": "code",
        "outputId": "88c3eab7-e13d-4e39-cb4d-86430fb0efb7",
        "colab": {
          "base_uri": "https://localhost:8080/",
          "height": 35
        }
      },
      "source": [
        "mylist[0]"
      ],
      "execution_count": 0,
      "outputs": [
        {
          "output_type": "execute_result",
          "data": {
            "text/plain": [
              "1"
            ]
          },
          "metadata": {
            "tags": []
          },
          "execution_count": 4
        }
      ]
    },
    {
      "cell_type": "code",
      "metadata": {
        "id": "tKFK8f3D-8ri",
        "colab_type": "code",
        "outputId": "26190e2e-4a49-41e8-c6d1-e1c265230230",
        "colab": {
          "base_uri": "https://localhost:8080/",
          "height": 172
        }
      },
      "source": [
        "#Asking for an entry which is beyond the list will give an error\n",
        "\n",
        "mylist[10]"
      ],
      "execution_count": 0,
      "outputs": [
        {
          "output_type": "error",
          "ename": "IndexError",
          "evalue": "ignored",
          "traceback": [
            "\u001b[0;31m---------------------------------------------------------------------------\u001b[0m",
            "\u001b[0;31mIndexError\u001b[0m                                Traceback (most recent call last)",
            "\u001b[0;32m<ipython-input-5-4eac906abbde>\u001b[0m in \u001b[0;36m<module>\u001b[0;34m()\u001b[0m\n\u001b[0;32m----> 1\u001b[0;31m \u001b[0mmylist\u001b[0m\u001b[0;34m[\u001b[0m\u001b[0;36m10\u001b[0m\u001b[0;34m]\u001b[0m\u001b[0;34m\u001b[0m\u001b[0;34m\u001b[0m\u001b[0m\n\u001b[0m",
            "\u001b[0;31mIndexError\u001b[0m: list index out of range"
          ]
        }
      ]
    },
    {
      "cell_type": "code",
      "metadata": {
        "id": "1iQ76BhE_FA6",
        "colab_type": "code",
        "outputId": "97023c38-1cf5-4c32-e149-5963b76d5b2f",
        "colab": {
          "base_uri": "https://localhost:8080/",
          "height": 35
        }
      },
      "source": [
        "#This will give you the number of elements in a list\n",
        "\n",
        "len(mylist)"
      ],
      "execution_count": 0,
      "outputs": [
        {
          "output_type": "execute_result",
          "data": {
            "text/plain": [
              "5"
            ]
          },
          "metadata": {
            "tags": []
          },
          "execution_count": 7
        }
      ]
    },
    {
      "cell_type": "code",
      "metadata": {
        "id": "aQYD_mP3_Mio",
        "colab_type": "code",
        "colab": {}
      },
      "source": [
        ""
      ],
      "execution_count": 0,
      "outputs": []
    },
    {
      "cell_type": "markdown",
      "metadata": {
        "id": "dzfPXkw9_Qda",
        "colab_type": "text"
      },
      "source": [
        "### Slice Lists\n",
        "\n",
        "Python also has some neat ways to grap **slices** of lists."
      ]
    },
    {
      "cell_type": "code",
      "metadata": {
        "id": "3k5qZMqo_aNA",
        "colab_type": "code",
        "outputId": "19ed5be9-b87d-4385-83f3-3b2a00e60573",
        "colab": {
          "base_uri": "https://localhost:8080/",
          "height": 35
        }
      },
      "source": [
        "mylist[0:2]"
      ],
      "execution_count": 0,
      "outputs": [
        {
          "output_type": "execute_result",
          "data": {
            "text/plain": [
              "[1, 2]"
            ]
          },
          "metadata": {
            "tags": []
          },
          "execution_count": 8
        }
      ]
    },
    {
      "cell_type": "markdown",
      "metadata": {
        "id": "9lQdqqI67c9w",
        "colab_type": "text"
      },
      "source": [
        "## Programming Logic\n",
        "\n",
        "Basic logical operators in python\n",
        "\n",
        "* Comparison: ==, <=, >=, >, < (equality, less than of equal to, greater than or equal to, greater, lesser)\n",
        "* Identity operators: is, is not\n",
        "* Membership operators: in, not in (Lists!)\n",
        "* Logical operators: and, or, not\n"
      ]
    },
    {
      "cell_type": "code",
      "metadata": {
        "id": "Jb_8jO_U_LQz",
        "colab_type": "code",
        "colab": {}
      },
      "source": [
        ""
      ],
      "execution_count": 0,
      "outputs": []
    },
    {
      "cell_type": "code",
      "metadata": {
        "id": "5F3C5s2H7c9z",
        "colab_type": "code",
        "outputId": "2d11d47d-b22f-41b0-c4aa-a58945aa4a0f",
        "colab": {}
      },
      "source": [
        "1==2"
      ],
      "execution_count": 0,
      "outputs": [
        {
          "output_type": "execute_result",
          "data": {
            "text/plain": [
              "False"
            ]
          },
          "metadata": {
            "tags": []
          },
          "execution_count": 2
        }
      ]
    },
    {
      "cell_type": "code",
      "metadata": {
        "id": "KWosC1ES7c97",
        "colab_type": "code",
        "outputId": "c77e1e98-3d51-43bc-ec85-86214e8b4a36",
        "colab": {}
      },
      "source": [
        "1=1 #Make sure you use double equal"
      ],
      "execution_count": 0,
      "outputs": [
        {
          "output_type": "error",
          "ename": "SyntaxError",
          "evalue": "can't assign to literal (<ipython-input-3-c59fb5224dc0>, line 1)",
          "traceback": [
            "\u001b[0;36m  File \u001b[0;32m\"<ipython-input-3-c59fb5224dc0>\"\u001b[0;36m, line \u001b[0;32m1\u001b[0m\n\u001b[0;31m    1=1\u001b[0m\n\u001b[0m       ^\u001b[0m\n\u001b[0;31mSyntaxError\u001b[0m\u001b[0;31m:\u001b[0m can't assign to literal\n"
          ]
        }
      ]
    },
    {
      "cell_type": "code",
      "metadata": {
        "id": "GyHgOt_p7c-C",
        "colab_type": "code",
        "outputId": "ad56262b-f968-448a-ba72-4a5c7777e7e4",
        "colab": {}
      },
      "source": [
        "4>3.99"
      ],
      "execution_count": 0,
      "outputs": [
        {
          "output_type": "execute_result",
          "data": {
            "text/plain": [
              "True"
            ]
          },
          "metadata": {
            "tags": []
          },
          "execution_count": 4
        }
      ]
    },
    {
      "cell_type": "code",
      "metadata": {
        "id": "8AOyB4VZ7c-I",
        "colab_type": "code",
        "outputId": "95fc1d7d-7814-43be-9642-8ae7caed22ea",
        "colab": {
          "base_uri": "https://localhost:8080/",
          "height": 35
        }
      },
      "source": [
        "1 in [1,2]"
      ],
      "execution_count": 1,
      "outputs": [
        {
          "output_type": "execute_result",
          "data": {
            "text/plain": [
              "True"
            ]
          },
          "metadata": {
            "tags": []
          },
          "execution_count": 1
        }
      ]
    },
    {
      "cell_type": "markdown",
      "metadata": {
        "id": "FZ8vOFe47c-Q",
        "colab_type": "text"
      },
      "source": [
        "## Control Flow\n",
        "\n",
        "* For loops\n",
        "* While loops\n",
        "* if statements\n",
        "* if/else statements\n",
        "\n",
        "\n"
      ]
    },
    {
      "cell_type": "code",
      "metadata": {
        "id": "pkq0_V6a7c-S",
        "colab_type": "code",
        "outputId": "d1428b25-3a6a-45af-90ea-85292b79b1d3",
        "colab": {
          "base_uri": "https://localhost:8080/",
          "height": 197
        }
      },
      "source": [
        "for x in range(0,10):\n",
        "  print(x)"
      ],
      "execution_count": 0,
      "outputs": [
        {
          "output_type": "stream",
          "text": [
            "0\n",
            "1\n",
            "2\n",
            "3\n",
            "4\n",
            "5\n",
            "6\n",
            "7\n",
            "8\n",
            "9\n"
          ],
          "name": "stdout"
        }
      ]
    },
    {
      "cell_type": "code",
      "metadata": {
        "id": "u3l8BGcb0kvq",
        "colab_type": "code",
        "outputId": "dba81ca8-be05-40ba-8c11-76407a9cd1b7",
        "colab": {
          "base_uri": "https://localhost:8080/",
          "height": 35
        }
      },
      "source": [
        "# can easily loop through lists\n",
        "\n",
        "import random\n",
        "\n",
        "#List comprehension\n",
        "rnums=[random.uniform(0,1) for n in range(0,100)]\n",
        "\n",
        "mysum=0.0\n",
        "\n",
        "for a in rnums:\n",
        "  #do something\n",
        "  mysum+=a\n",
        "\n",
        "print(mysum)"
      ],
      "execution_count": 0,
      "outputs": [
        {
          "output_type": "stream",
          "text": [
            "47.02725654074494\n"
          ],
          "name": "stdout"
        }
      ]
    },
    {
      "cell_type": "markdown",
      "metadata": {
        "id": "nJFELjxG2QST",
        "colab_type": "text"
      },
      "source": [
        "Now let's find the number of our random numbers which are greater than 0.9?\n",
        "\n"
      ]
    },
    {
      "cell_type": "code",
      "metadata": {
        "id": "isNjkHgKdeF8",
        "colab_type": "code",
        "colab": {}
      },
      "source": [
        ""
      ],
      "execution_count": 0,
      "outputs": []
    },
    {
      "cell_type": "markdown",
      "metadata": {
        "id": "yd8qXpXp_tIX",
        "colab_type": "text"
      },
      "source": [
        "#### Question\n",
        "\n",
        "Generate the Fibonacci sequence of numbers using python.\n",
        "\n",
        "$$a_1=a_2=1$$\n",
        "\n",
        "$$ a_i=a_{i-1}+a_{i-2} $$"
      ]
    },
    {
      "cell_type": "code",
      "metadata": {
        "id": "01-QDS2Ezw93",
        "colab_type": "code",
        "colab": {}
      },
      "source": [
        "# You loop to create the fibbonacci sequence goes here\n",
        "\n"
      ],
      "execution_count": 0,
      "outputs": []
    },
    {
      "cell_type": "markdown",
      "metadata": {
        "id": "dpV_hzxOz5Ag",
        "colab_type": "text"
      },
      "source": [
        "#### Question\n",
        "\n",
        "\n",
        "Find the value of the sum $$\\sum_{n=0}^{\\infty} \\left( \\frac{1}{4} \\right)^n $$ within 0.000001 of the exact answer. How many terms are needed?"
      ]
    },
    {
      "cell_type": "markdown",
      "metadata": {
        "id": "e7ahh4Ph2tBo",
        "colab_type": "text"
      },
      "source": [
        ""
      ]
    },
    {
      "cell_type": "markdown",
      "metadata": {
        "id": "lqZPYgwieLBM",
        "colab_type": "text"
      },
      "source": [
        "## Map, Filter, zip and Other Tricks\n",
        "\n",
        "Many times we will want to apply a function to a list on inputs. For this we can use the map function. "
      ]
    },
    {
      "cell_type": "code",
      "metadata": {
        "id": "5ZT7OmAeebCb",
        "colab_type": "code",
        "colab": {
          "base_uri": "https://localhost:8080/",
          "height": 844
        },
        "outputId": "052fa99b-da63-4ecb-cebe-a7c3cb67a845"
      },
      "source": [
        "import numpy as np\n",
        "import pylab as plt\n",
        "\n",
        "x=np.arange(0,2*np.pi,0.01)\n",
        "\n",
        "print(x)"
      ],
      "execution_count": 15,
      "outputs": [
        {
          "output_type": "stream",
          "text": [
            "[0.   0.01 0.02 0.03 0.04 0.05 0.06 0.07 0.08 0.09 0.1  0.11 0.12 0.13\n",
            " 0.14 0.15 0.16 0.17 0.18 0.19 0.2  0.21 0.22 0.23 0.24 0.25 0.26 0.27\n",
            " 0.28 0.29 0.3  0.31 0.32 0.33 0.34 0.35 0.36 0.37 0.38 0.39 0.4  0.41\n",
            " 0.42 0.43 0.44 0.45 0.46 0.47 0.48 0.49 0.5  0.51 0.52 0.53 0.54 0.55\n",
            " 0.56 0.57 0.58 0.59 0.6  0.61 0.62 0.63 0.64 0.65 0.66 0.67 0.68 0.69\n",
            " 0.7  0.71 0.72 0.73 0.74 0.75 0.76 0.77 0.78 0.79 0.8  0.81 0.82 0.83\n",
            " 0.84 0.85 0.86 0.87 0.88 0.89 0.9  0.91 0.92 0.93 0.94 0.95 0.96 0.97\n",
            " 0.98 0.99 1.   1.01 1.02 1.03 1.04 1.05 1.06 1.07 1.08 1.09 1.1  1.11\n",
            " 1.12 1.13 1.14 1.15 1.16 1.17 1.18 1.19 1.2  1.21 1.22 1.23 1.24 1.25\n",
            " 1.26 1.27 1.28 1.29 1.3  1.31 1.32 1.33 1.34 1.35 1.36 1.37 1.38 1.39\n",
            " 1.4  1.41 1.42 1.43 1.44 1.45 1.46 1.47 1.48 1.49 1.5  1.51 1.52 1.53\n",
            " 1.54 1.55 1.56 1.57 1.58 1.59 1.6  1.61 1.62 1.63 1.64 1.65 1.66 1.67\n",
            " 1.68 1.69 1.7  1.71 1.72 1.73 1.74 1.75 1.76 1.77 1.78 1.79 1.8  1.81\n",
            " 1.82 1.83 1.84 1.85 1.86 1.87 1.88 1.89 1.9  1.91 1.92 1.93 1.94 1.95\n",
            " 1.96 1.97 1.98 1.99 2.   2.01 2.02 2.03 2.04 2.05 2.06 2.07 2.08 2.09\n",
            " 2.1  2.11 2.12 2.13 2.14 2.15 2.16 2.17 2.18 2.19 2.2  2.21 2.22 2.23\n",
            " 2.24 2.25 2.26 2.27 2.28 2.29 2.3  2.31 2.32 2.33 2.34 2.35 2.36 2.37\n",
            " 2.38 2.39 2.4  2.41 2.42 2.43 2.44 2.45 2.46 2.47 2.48 2.49 2.5  2.51\n",
            " 2.52 2.53 2.54 2.55 2.56 2.57 2.58 2.59 2.6  2.61 2.62 2.63 2.64 2.65\n",
            " 2.66 2.67 2.68 2.69 2.7  2.71 2.72 2.73 2.74 2.75 2.76 2.77 2.78 2.79\n",
            " 2.8  2.81 2.82 2.83 2.84 2.85 2.86 2.87 2.88 2.89 2.9  2.91 2.92 2.93\n",
            " 2.94 2.95 2.96 2.97 2.98 2.99 3.   3.01 3.02 3.03 3.04 3.05 3.06 3.07\n",
            " 3.08 3.09 3.1  3.11 3.12 3.13 3.14 3.15 3.16 3.17 3.18 3.19 3.2  3.21\n",
            " 3.22 3.23 3.24 3.25 3.26 3.27 3.28 3.29 3.3  3.31 3.32 3.33 3.34 3.35\n",
            " 3.36 3.37 3.38 3.39 3.4  3.41 3.42 3.43 3.44 3.45 3.46 3.47 3.48 3.49\n",
            " 3.5  3.51 3.52 3.53 3.54 3.55 3.56 3.57 3.58 3.59 3.6  3.61 3.62 3.63\n",
            " 3.64 3.65 3.66 3.67 3.68 3.69 3.7  3.71 3.72 3.73 3.74 3.75 3.76 3.77\n",
            " 3.78 3.79 3.8  3.81 3.82 3.83 3.84 3.85 3.86 3.87 3.88 3.89 3.9  3.91\n",
            " 3.92 3.93 3.94 3.95 3.96 3.97 3.98 3.99 4.   4.01 4.02 4.03 4.04 4.05\n",
            " 4.06 4.07 4.08 4.09 4.1  4.11 4.12 4.13 4.14 4.15 4.16 4.17 4.18 4.19\n",
            " 4.2  4.21 4.22 4.23 4.24 4.25 4.26 4.27 4.28 4.29 4.3  4.31 4.32 4.33\n",
            " 4.34 4.35 4.36 4.37 4.38 4.39 4.4  4.41 4.42 4.43 4.44 4.45 4.46 4.47\n",
            " 4.48 4.49 4.5  4.51 4.52 4.53 4.54 4.55 4.56 4.57 4.58 4.59 4.6  4.61\n",
            " 4.62 4.63 4.64 4.65 4.66 4.67 4.68 4.69 4.7  4.71 4.72 4.73 4.74 4.75\n",
            " 4.76 4.77 4.78 4.79 4.8  4.81 4.82 4.83 4.84 4.85 4.86 4.87 4.88 4.89\n",
            " 4.9  4.91 4.92 4.93 4.94 4.95 4.96 4.97 4.98 4.99 5.   5.01 5.02 5.03\n",
            " 5.04 5.05 5.06 5.07 5.08 5.09 5.1  5.11 5.12 5.13 5.14 5.15 5.16 5.17\n",
            " 5.18 5.19 5.2  5.21 5.22 5.23 5.24 5.25 5.26 5.27 5.28 5.29 5.3  5.31\n",
            " 5.32 5.33 5.34 5.35 5.36 5.37 5.38 5.39 5.4  5.41 5.42 5.43 5.44 5.45\n",
            " 5.46 5.47 5.48 5.49 5.5  5.51 5.52 5.53 5.54 5.55 5.56 5.57 5.58 5.59\n",
            " 5.6  5.61 5.62 5.63 5.64 5.65 5.66 5.67 5.68 5.69 5.7  5.71 5.72 5.73\n",
            " 5.74 5.75 5.76 5.77 5.78 5.79 5.8  5.81 5.82 5.83 5.84 5.85 5.86 5.87\n",
            " 5.88 5.89 5.9  5.91 5.92 5.93 5.94 5.95 5.96 5.97 5.98 5.99 6.   6.01\n",
            " 6.02 6.03 6.04 6.05 6.06 6.07 6.08 6.09 6.1  6.11 6.12 6.13 6.14 6.15\n",
            " 6.16 6.17 6.18 6.19 6.2  6.21 6.22 6.23 6.24 6.25 6.26 6.27 6.28]\n"
          ],
          "name": "stdout"
        }
      ]
    },
    {
      "cell_type": "code",
      "metadata": {
        "id": "pKLMw3nEeiIX",
        "colab_type": "code",
        "colab": {
          "base_uri": "https://localhost:8080/",
          "height": 265
        },
        "outputId": "448e0779-2c9d-4294-b0f7-83fbbccfcea6"
      },
      "source": [
        "y=[]\n",
        "\n",
        "for val in x:\n",
        "  y.append(np.sin(val))\n",
        "\n",
        "plt.plot(x,y);"
      ],
      "execution_count": 18,
      "outputs": [
        {
          "output_type": "display_data",
          "data": {
            "image/png": "[encoded data removed]",
            "text/plain": [
              "<Figure size 432x288 with 1 Axes>"
            ]
          },
          "metadata": {
            "tags": []
          }
        }
      ]
    },
    {
      "cell_type": "code",
      "metadata": {
        "id": "_IYc45rXe6zT",
        "colab_type": "code",
        "colab": {
          "base_uri": "https://localhost:8080/",
          "height": 265
        },
        "outputId": "3f2aea5c-18f4-435a-b213-233183accf20"
      },
      "source": [
        "y=map(np.sin,x)\n",
        "\n",
        "plt.plot(x,list(y));"
      ],
      "execution_count": 28,
      "outputs": [
        {
          "output_type": "display_data",
          "data": {
            "image/png": "[encoded data removed]",
            "text/plain": [
              "<Figure size 432x288 with 1 Axes>"
            ]
          },
          "metadata": {
            "tags": []
          }
        }
      ]
    },
    {
      "cell_type": "code",
      "metadata": {
        "id": "zWeGikWIiCxT",
        "colab_type": "code",
        "colab": {
          "base_uri": "https://localhost:8080/",
          "height": 35
        },
        "outputId": "6f134348-0061-4c57-dd60-87d5b3b750bf"
      },
      "source": [
        "pos_y=filter(lambda a: a>=0.0, y)\n",
        "\n",
        "print(list(pos_y))\n"
      ],
      "execution_count": 32,
      "outputs": [
        {
          "output_type": "stream",
          "text": [
            "[]\n"
          ],
          "name": "stdout"
        }
      ]
    },
    {
      "cell_type": "code",
      "metadata": {
        "id": "nzy2SB4kiNhl",
        "colab_type": "code",
        "colab": {}
      },
      "source": [
        ""
      ],
      "execution_count": 0,
      "outputs": []
    }
  ]
}
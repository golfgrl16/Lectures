{
 "cells": [
  {
   "cell_type": "markdown",
   "metadata": {},
   "source": [
    "# Introduction to Python\n",
    "\n",
    "## Welcome to MATH 2341!\n",
    "\n",
    "In this lecture we will learn the basics of python, my favorite programming language. We call it a programming language because we can really express any computational task in python. Thousands of possible programming language exist. However, python is one of the simpler to learn languages which also happens to the be the most popular language for scientific computing, data science and machine learning. Once you learn one programming language you can quickly and easily pick up new languages. I can usually speak passable X language in a weekend. \n",
    "\n",
    "\n",
    "We will mainly be interfacing with python using jupyter notebooks _like this one_. These allow for us to write explanations and do _math_ in Markdown boxes like this one, and then add some python code to a new box (see below). \n",
    "\n",
    "Markdown is pretty easy to use to if you want to learn some tips and tricks, either rob some the tricks you will see me use in the lecture notes or check out the help menu above. \n",
    "\n",
    "\n"
   ]
  },
  {
   "cell_type": "markdown",
   "metadata": {},
   "source": [
    "## Hello World\n",
    "\n",
    "The classic first program to write in any new programming language is the \"Hello World\" program. \n",
    "\n",
    "Python makes this very, very simple. \n",
    "\n",
    "We simply have to type the below in, to execute a cell in python in a jupyter notebook simply select the \n",
    "cell and either click **\"Run\"** in the above menu or do **SHIFT+ENTER**"
   ]
  },
  {
   "cell_type": "code",
   "execution_count": 5,
   "metadata": {},
   "outputs": [
    {
     "name": "stdout",
     "output_type": "stream",
     "text": [
      "Hello World\n"
     ]
    }
   ],
   "source": [
    "#My first program!\n",
    "print(\"Hello World\")"
   ]
  },
  {
   "cell_type": "markdown",
   "metadata": {},
   "source": [
    "The \\# above tells python that line should be ignored, those are called comment lines. They can be very useful. I add lots of comments to my code!\n",
    "\n",
    "The second line calls the __print__ function and passes in the argument \"Hello World\"\n",
    "\n",
    "We can also define our message as a variable. The equals sign tells python to store a variable in memory for later use. "
   ]
  },
  {
   "cell_type": "code",
   "execution_count": 7,
   "metadata": {},
   "outputs": [
    {
     "name": "stdout",
     "output_type": "stream",
     "text": [
      "Hello World\n"
     ]
    }
   ],
   "source": [
    "#This does the same thing\n",
    "\n",
    "message=\"Hello World\"\n",
    "print(message)\n",
    "\n"
   ]
  },
  {
   "cell_type": "markdown",
   "metadata": {},
   "source": [
    "<font color=red> Update the code to print a message of your choice </font> "
   ]
  },
  {
   "cell_type": "code",
   "execution_count": null,
   "metadata": {},
   "outputs": [],
   "source": [
    "#Put your answer here\n",
    "\n"
   ]
  },
  {
   "cell_type": "markdown",
   "metadata": {},
   "source": [
    "## Variables and Types in Python\n",
    "\n"
   ]
  },
  {
   "cell_type": "code",
   "execution_count": 11,
   "metadata": {},
   "outputs": [
    {
     "data": {
      "text/plain": [
       "3"
      ]
     },
     "execution_count": 11,
     "metadata": {},
     "output_type": "execute_result"
    }
   ],
   "source": [
    "a=1\n",
    "b=2\n",
    "\n",
    "a+b"
   ]
  },
  {
   "cell_type": "markdown",
   "metadata": {},
   "source": [
    "## Functions"
   ]
  }
 ],
 "metadata": {
  "kernelspec": {
   "display_name": "Python 3",
   "language": "python",
   "name": "python3"
  },
  "language_info": {
   "codemirror_mode": {
    "name": "ipython",
    "version": 3
   },
   "file_extension": ".py",
   "mimetype": "text/x-python",
   "name": "python",
   "nbconvert_exporter": "python",
   "pygments_lexer": "ipython3",
   "version": "3.6.8"
  }
 },
 "nbformat": 4,
 "nbformat_minor": 2
}

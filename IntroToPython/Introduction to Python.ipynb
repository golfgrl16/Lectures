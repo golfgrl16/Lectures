{
  "nbformat": 4,
  "nbformat_minor": 0,
  "metadata": {
    "kernelspec": {
      "display_name": "Python 3",
      "language": "python",
      "name": "python3"
    },
    "language_info": {
      "codemirror_mode": {
        "name": "ipython",
        "version": 3
      },
      "file_extension": ".py",
      "mimetype": "text/x-python",
      "name": "python",
      "nbconvert_exporter": "python",
      "pygments_lexer": "ipython3",
      "version": "3.6.8"
    },
    "toc": {
      "base_numbering": 1,
      "nav_menu": {
        "height": "403px",
        "width": "256px"
      },
      "number_sections": true,
      "sideBar": true,
      "skip_h1_title": false,
      "title_cell": "Table of Contents",
      "title_sidebar": "Contents",
      "toc_cell": true,
      "toc_position": {},
      "toc_section_display": true,
      "toc_window_display": false
    },
    "colab": {
      "name": "Introduction to Python.ipynb",
      "provenance": []
    }
  },
  "cells": [
    {
      "cell_type": "markdown",
      "metadata": {
        "toc": true,
        "id": "Kxc8T1HwkcPM",
        "colab_type": "text"
      },
      "source": [
        "<h1>Table of Contents<span class=\"tocSkip\"></span></h1>\n",
        "<div class=\"toc\"><ul class=\"toc-item\"><li><span><a href=\"#Introduction-to-Python\" data-toc-modified-id=\"Introduction-to-Python-1\"><span class=\"toc-item-num\">1&nbsp;&nbsp;</span>Introduction to Python</a></span><ul class=\"toc-item\"><li><span><a href=\"#Welcome-to-MATH-2341!\" data-toc-modified-id=\"Welcome-to-MATH-2341!-1.1\"><span class=\"toc-item-num\">1.1&nbsp;&nbsp;</span>Welcome to MATH 2341!</a></span></li><li><span><a href=\"#Hello-World\" data-toc-modified-id=\"Hello-World-1.2\"><span class=\"toc-item-num\">1.2&nbsp;&nbsp;</span>Hello World</a></span></li><li><span><a href=\"#Variables-and-Types-in-Python\" data-toc-modified-id=\"Variables-and-Types-in-Python-1.3\"><span class=\"toc-item-num\">1.3&nbsp;&nbsp;</span>Variables and Types in Python</a></span><ul class=\"toc-item\"><li><ul class=\"toc-item\"><li><span><a href=\"#Question\" data-toc-modified-id=\"Question-1.3.0.1\"><span class=\"toc-item-num\">1.3.0.1&nbsp;&nbsp;</span>Question</a></span></li></ul></li><li><span><a href=\"#Other-types-we-will-use-in-scientific-computing\" data-toc-modified-id=\"Other-types-we-will-use-in-scientific-computing-1.3.1\"><span class=\"toc-item-num\">1.3.1&nbsp;&nbsp;</span>Other types we will use in scientific computing</a></span></li></ul></li><li><span><a href=\"#Functions\" data-toc-modified-id=\"Functions-1.4\"><span class=\"toc-item-num\">1.4&nbsp;&nbsp;</span>Functions</a></span><ul class=\"toc-item\"><li><ul class=\"toc-item\"><li><span><a href=\"#Question\" data-toc-modified-id=\"Question-1.4.0.1\"><span class=\"toc-item-num\">1.4.0.1&nbsp;&nbsp;</span>Question</a></span></li></ul></li></ul></li><li><span><a href=\"#Logical-Conditionals\" data-toc-modified-id=\"Logical-Conditionals-1.5\"><span class=\"toc-item-num\">1.5&nbsp;&nbsp;</span>Logical Conditionals</a></span></li><li><span><a href=\"#Loops\" data-toc-modified-id=\"Loops-1.6\"><span class=\"toc-item-num\">1.6&nbsp;&nbsp;</span>Loops</a></span></li></ul></li></ul></div>"
      ]
    },
    {
      "cell_type": "markdown",
      "metadata": {
        "id": "WP3D92D3kcPQ",
        "colab_type": "text"
      },
      "source": [
        "# Introduction to Python\n",
        "\n",
        "## Welcome to MATH 2341!\n",
        "\n",
        "In this lecture we will learn the basics of python, my favorite programming language. We call it a programming language because we can really express any computational task in python. Thousands of possible programming language exist. However, python is one of the simpler to learn languages which also happens to the be the most popular language for scientific computing, data science and machine learning. Once you learn one programming language you can quickly and easily pick up new languages. I can usually speak a new programming language at least at the novice level in a weekend. \n",
        "\n",
        "\n",
        "We will mainly be interfacing with python using jupyter notebooks _like this one_. These allow for us to write explanations and do _math_ in Markdown boxes like this one, and then add some python code to a new box (see below). \n",
        "\n",
        "Markdown is pretty easy to use to if you want to learn some tips and tricks, either rob some the tricks you will see me use in the lecture notes or _check out the help menu above_. \n",
        "\n",
        "A few gotchas to watch out for:\n",
        "\n",
        "* We will be using python 3 in this class. That is the new version of python, lots of code on the internet is written in python 2. It isn't hard to convert but if something you find on the internet isn't working, this may be the cause.\n",
        "\n",
        "* Python uses to tabs to establish code blocks (more on this later) just be intentional about using TAB in python programs\n",
        "\n",
        "\n",
        "\n",
        "\n",
        "\n",
        "\n"
      ]
    },
    {
      "cell_type": "markdown",
      "metadata": {
        "id": "pPQ0o6IUkcPT",
        "colab_type": "text"
      },
      "source": [
        "## Hello World\n",
        "\n",
        "The classic first program to write in any new programming language is the \"Hello World\" program. \n",
        "\n",
        "Python makes this very, very simple. \n",
        "\n",
        "We simply have to type the below in, to execute a cell in python in a jupyter notebook simply select the \n",
        "cell and either click **\"Run\"** in the above menu or do **SHIFT+ENTER**"
      ]
    },
    {
      "cell_type": "code",
      "metadata": {
        "id": "VZ4myrH0kcPW",
        "colab_type": "code",
        "colab": {
          "base_uri": "https://localhost:8080/",
          "height": 35
        },
        "outputId": "5d87b5de-4a1f-4b01-a5e7-ac80f177381b"
      },
      "source": [
        "#My first program!\n",
        "print(\"Hello World\")"
      ],
      "execution_count": 1,
      "outputs": [
        {
          "output_type": "stream",
          "text": [
            "Hello World\n"
          ],
          "name": "stdout"
        }
      ]
    },
    {
      "cell_type": "markdown",
      "metadata": {
        "id": "9K3nlspokcPf",
        "colab_type": "text"
      },
      "source": [
        "The \\# above tells python that line should be ignored, those are called comment lines. They can be very useful. I add lots of comments to my code!\n",
        "\n",
        "The second line calls the __print__ function and passes in the argument \"Hello World\"\n",
        "\n",
        "We can also define our message as a variable. The equals sign tells python to store a variable in memory for later use. "
      ]
    },
    {
      "cell_type": "code",
      "metadata": {
        "id": "8ZS63dTXkcPi",
        "colab_type": "code",
        "colab": {},
        "outputId": "c5da291f-ab10-4d7c-e268-886a1e7af428"
      },
      "source": [
        "#This does the same thing\n",
        "\n",
        "message=\"Hello World\"\n",
        "print(message)\n",
        "\n"
      ],
      "execution_count": 0,
      "outputs": [
        {
          "output_type": "stream",
          "text": [
            "Hello World\n"
          ],
          "name": "stdout"
        }
      ]
    },
    {
      "cell_type": "markdown",
      "metadata": {
        "id": "eHs4odRTkcPo",
        "colab_type": "text"
      },
      "source": [
        "<font color=red> Update the code to print a message of your choice </font> "
      ]
    },
    {
      "cell_type": "code",
      "metadata": {
        "id": "WXZugSyUkcPq",
        "colab_type": "code",
        "colab": {}
      },
      "source": [
        "#Put your answer here\n",
        "\n"
      ],
      "execution_count": 0,
      "outputs": []
    },
    {
      "cell_type": "markdown",
      "metadata": {
        "id": "-CDelCEkkcPw",
        "colab_type": "text"
      },
      "source": [
        "## Variables and Types in Python\n",
        "\n",
        "When python stores one of our variables in the computer memory it has to assign it a type. Let's start with numbers. For those python has two main types:\n",
        "\n",
        "* integers: These are whole numbers 1,-1,345,567. \n",
        "\n",
        "* float: decimal numbers are called floating point numbers. Arithmitic with them in NOT exact and is subject to round off errors. This is simply because they have a finite amount of decimal places they can store in memory.\n",
        "\n",
        "* complex: Python can also store complex numbers (real, imaginary). \n",
        "\n",
        "Python has many more built-in types, and we will see later in the class how we can define our own. \n",
        "\n",
        "\n",
        "\n"
      ]
    },
    {
      "cell_type": "code",
      "metadata": {
        "id": "BhSWeijpkcPx",
        "colab_type": "code",
        "colab": {
          "base_uri": "https://localhost:8080/",
          "height": 35
        },
        "outputId": "e715073e-16f8-48dc-a38b-9b5fc7f8f88c"
      },
      "source": [
        "#Notice that I entered 1 without a decimal to tell python to use an integer\n",
        "\n",
        "a=1\n",
        "type(a)"
      ],
      "execution_count": 2,
      "outputs": [
        {
          "output_type": "execute_result",
          "data": {
            "text/plain": [
              "int"
            ]
          },
          "metadata": {
            "tags": []
          },
          "execution_count": 2
        }
      ]
    },
    {
      "cell_type": "code",
      "metadata": {
        "id": "ltrTpLzLkcP1",
        "colab_type": "code",
        "colab": {
          "base_uri": "https://localhost:8080/",
          "height": 35
        },
        "outputId": "fe594d4b-d310-4de8-ff44-5f17506c1a9e"
      },
      "source": [
        "#Now define \"a\" as a float\n",
        "\n",
        "b=6.0\n",
        "\n",
        "type(b)"
      ],
      "execution_count": 3,
      "outputs": [
        {
          "output_type": "execute_result",
          "data": {
            "text/plain": [
              "float"
            ]
          },
          "metadata": {
            "tags": []
          },
          "execution_count": 3
        }
      ]
    },
    {
      "cell_type": "markdown",
      "metadata": {
        "id": "kerqRwxSkcP6",
        "colab_type": "text"
      },
      "source": [
        "Generally when doing arithmitic with int and floats, if all entries are of one type then so will the result.\n",
        "\n",
        "int+int=int\n",
        "float+float=float\n",
        "int*int=int\n",
        "etc\n",
        "\n",
        "\n",
        "If we mix up floats and integers in a computation then a float will be returned. This is sometimes called type promotion."
      ]
    },
    {
      "cell_type": "code",
      "metadata": {
        "id": "ird2W1eykcP8",
        "colab_type": "code",
        "colab": {
          "base_uri": "https://localhost:8080/",
          "height": 90
        },
        "outputId": "4eca1f43-bb18-4040-b473-fd91437f869d"
      },
      "source": [
        "print(\"Add: \", a+b, type(a+b))\n",
        "print(\"Subtract: \", a-b, type(a+b))\n",
        "print(\"Mult: \", a*b, type(a+b))\n",
        "print(\"Divide: \", a/b, type(a+b))"
      ],
      "execution_count": 4,
      "outputs": [
        {
          "output_type": "stream",
          "text": [
            "Add:  7.0 <class 'float'>\n",
            "Subtract:  -5.0 <class 'float'>\n",
            "Mult:  6.0 <class 'float'>\n",
            "Divide:  0.16666666666666666 <class 'float'>\n"
          ],
          "name": "stdout"
        }
      ]
    },
    {
      "cell_type": "markdown",
      "metadata": {
        "id": "Xd1KITyIkcQC",
        "colab_type": "text"
      },
      "source": [
        "The exception to the above rule is if we **divide** two integers by one another. Then python will return a float. "
      ]
    },
    {
      "cell_type": "code",
      "metadata": {
        "id": "3xauY-q5kcQD",
        "colab_type": "code",
        "colab": {},
        "outputId": "e6e96260-1442-4a0c-ed75-b3c19ce2183f"
      },
      "source": [
        "4/5"
      ],
      "execution_count": 0,
      "outputs": [
        {
          "output_type": "execute_result",
          "data": {
            "text/plain": [
              "0.8"
            ]
          },
          "metadata": {
            "tags": []
          },
          "execution_count": 20
        }
      ]
    },
    {
      "cell_type": "code",
      "metadata": {
        "id": "c9pYJ3SxkcQI",
        "colab_type": "code",
        "colab": {},
        "outputId": "10b015a1-c46b-4f15-a5f3-4a9570dc030a"
      },
      "source": [
        "10/2"
      ],
      "execution_count": 0,
      "outputs": [
        {
          "output_type": "execute_result",
          "data": {
            "text/plain": [
              "5.0"
            ]
          },
          "metadata": {
            "tags": []
          },
          "execution_count": 21
        }
      ]
    },
    {
      "cell_type": "markdown",
      "metadata": {
        "id": "5_6jVQorkcQO",
        "colab_type": "text"
      },
      "source": [
        "If we want to force python to do an integer divide then use the // operator. Now the returned value for dividing two integers will also be an integer. However, be careful to make sure then is something you actually want. \n",
        "\n",
        "* In older versions of python, the default division behaved like the //. So be careful converting old code. "
      ]
    },
    {
      "cell_type": "code",
      "metadata": {
        "id": "tKXbZTmwkcQP",
        "colab_type": "code",
        "colab": {},
        "outputId": "c4fa07cc-ff0e-45a1-8af3-56b2feabd3db"
      },
      "source": [
        "10 // 2"
      ],
      "execution_count": 0,
      "outputs": [
        {
          "output_type": "execute_result",
          "data": {
            "text/plain": [
              "5"
            ]
          },
          "metadata": {
            "tags": []
          },
          "execution_count": 22
        }
      ]
    },
    {
      "cell_type": "code",
      "metadata": {
        "id": "tT-XSqHXkcQT",
        "colab_type": "code",
        "colab": {},
        "outputId": "6fcb92eb-bb5e-4cdb-8870-ceb2122684ec"
      },
      "source": [
        "4 // 5"
      ],
      "execution_count": 0,
      "outputs": [
        {
          "output_type": "execute_result",
          "data": {
            "text/plain": [
              "0"
            ]
          },
          "metadata": {
            "tags": []
          },
          "execution_count": 23
        }
      ]
    },
    {
      "cell_type": "markdown",
      "metadata": {
        "id": "cOvCAu0okcQX",
        "colab_type": "text"
      },
      "source": [
        "Integer division will always round down. \n",
        "\n",
        "To get the remainder from a division we can use the mod operator %\n",
        "\n"
      ]
    },
    {
      "cell_type": "code",
      "metadata": {
        "id": "HEhiFMslkcQX",
        "colab_type": "code",
        "colab": {},
        "outputId": "a699ba5f-4fdc-489f-895b-64a3b01d3cfd"
      },
      "source": [
        "5 % 2"
      ],
      "execution_count": 0,
      "outputs": [
        {
          "output_type": "execute_result",
          "data": {
            "text/plain": [
              "1"
            ]
          },
          "metadata": {
            "tags": []
          },
          "execution_count": 24
        }
      ]
    },
    {
      "cell_type": "code",
      "metadata": {
        "id": "yO6KaFHTkcQd",
        "colab_type": "code",
        "colab": {},
        "outputId": "5a56a9d7-5ebb-4400-d735-bc5b0a9e7bfa"
      },
      "source": [
        "6.2 % 2"
      ],
      "execution_count": 0,
      "outputs": [
        {
          "output_type": "execute_result",
          "data": {
            "text/plain": [
              "0.20000000000000018"
            ]
          },
          "metadata": {
            "tags": []
          },
          "execution_count": 25
        }
      ]
    },
    {
      "cell_type": "code",
      "metadata": {
        "id": "U3Uyy4ZFkcQi",
        "colab_type": "code",
        "colab": {},
        "outputId": "6fdaad88-b4c6-4372-ed98-6a40c2f4fa96"
      },
      "source": [
        "4 % 2"
      ],
      "execution_count": 0,
      "outputs": [
        {
          "output_type": "execute_result",
          "data": {
            "text/plain": [
              "0"
            ]
          },
          "metadata": {
            "tags": []
          },
          "execution_count": 26
        }
      ]
    },
    {
      "cell_type": "markdown",
      "metadata": {
        "id": "WZ0hiTsSkcQl",
        "colab_type": "text"
      },
      "source": [
        "We can always convert between an integer and float using the type casting functions\n",
        "\n"
      ]
    },
    {
      "cell_type": "code",
      "metadata": {
        "id": "JfUiM9g8kcQn",
        "colab_type": "code",
        "colab": {},
        "outputId": "5d75ccac-001f-4267-9943-ffee47d0a441"
      },
      "source": [
        "int(2.0)"
      ],
      "execution_count": 0,
      "outputs": [
        {
          "output_type": "execute_result",
          "data": {
            "text/plain": [
              "2"
            ]
          },
          "metadata": {
            "tags": []
          },
          "execution_count": 27
        }
      ]
    },
    {
      "cell_type": "code",
      "metadata": {
        "id": "6MhB4HrfkcQr",
        "colab_type": "code",
        "colab": {},
        "outputId": "2792abd4-fc0d-4088-8c6e-ad585a3f4780"
      },
      "source": [
        "int(2.99) # rounds down"
      ],
      "execution_count": 0,
      "outputs": [
        {
          "output_type": "execute_result",
          "data": {
            "text/plain": [
              "2"
            ]
          },
          "metadata": {
            "tags": []
          },
          "execution_count": 28
        }
      ]
    },
    {
      "cell_type": "code",
      "metadata": {
        "id": "CkNc7OIEkcQv",
        "colab_type": "code",
        "colab": {},
        "outputId": "0bb97f5f-c46f-4a7a-8235-ce8cadcb1909"
      },
      "source": [
        "float(567)"
      ],
      "execution_count": 0,
      "outputs": [
        {
          "output_type": "execute_result",
          "data": {
            "text/plain": [
              "567.0"
            ]
          },
          "metadata": {
            "tags": []
          },
          "execution_count": 29
        }
      ]
    },
    {
      "cell_type": "markdown",
      "metadata": {
        "id": "-wk9EmN5kcQz",
        "colab_type": "text"
      },
      "source": [
        "To find a exponential we need the ** operator"
      ]
    },
    {
      "cell_type": "code",
      "metadata": {
        "id": "4L9qtrohkcQ0",
        "colab_type": "code",
        "colab": {},
        "outputId": "cf3abdd5-7c76-4a7f-9352-560ae1859700"
      },
      "source": [
        "2**10"
      ],
      "execution_count": 0,
      "outputs": [
        {
          "output_type": "execute_result",
          "data": {
            "text/plain": [
              "1024"
            ]
          },
          "metadata": {
            "tags": []
          },
          "execution_count": 30
        }
      ]
    },
    {
      "cell_type": "code",
      "metadata": {
        "id": "g7_luDMLkcQ3",
        "colab_type": "code",
        "colab": {},
        "outputId": "909b0e16-e302-4654-ba16-011bda80ec16"
      },
      "source": [
        "2.0**10"
      ],
      "execution_count": 0,
      "outputs": [
        {
          "output_type": "execute_result",
          "data": {
            "text/plain": [
              "1024.0"
            ]
          },
          "metadata": {
            "tags": []
          },
          "execution_count": 31
        }
      ]
    },
    {
      "cell_type": "code",
      "metadata": {
        "id": "oGnOUz0lkcQ7",
        "colab_type": "code",
        "colab": {},
        "outputId": "6bc1ab9f-14ca-4098-d7ef-165f2cd19e0f"
      },
      "source": [
        "2**10.0"
      ],
      "execution_count": 0,
      "outputs": [
        {
          "output_type": "execute_result",
          "data": {
            "text/plain": [
              "1024.0"
            ]
          },
          "metadata": {
            "tags": []
          },
          "execution_count": 32
        }
      ]
    },
    {
      "cell_type": "markdown",
      "metadata": {
        "id": "3NFtyLRkkcQ_",
        "colab_type": "text"
      },
      "source": [
        "#### Question\n",
        "\n",
        "\n",
        "**Why would we use an integer instead of just using floats for every number????**\n",
        "\n"
      ]
    },
    {
      "cell_type": "markdown",
      "metadata": {
        "id": "sxtJkLR_kcRA",
        "colab_type": "text"
      },
      "source": [
        "### Other types we will use in scientific computing\n",
        "\n",
        "Just a few quick other types we will use in scientific computing\n",
        "\n",
        "Boolean: This is just True or False. This will be used to perform logical comparisons.\n",
        "\n",
        "Strings: We have seen this as part of the hello world program. \n",
        "\n",
        "More about these later. Strings are declared using quotes around the value. \n",
        "\n"
      ]
    },
    {
      "cell_type": "code",
      "metadata": {
        "id": "unF966MzkcRB",
        "colab_type": "code",
        "colab": {}
      },
      "source": [
        "myboolean=True\n",
        "\n",
        "mystring=\"This is a string\""
      ],
      "execution_count": 0,
      "outputs": []
    },
    {
      "cell_type": "code",
      "metadata": {
        "id": "FVaBYeATkcRE",
        "colab_type": "code",
        "colab": {},
        "outputId": "9093ae93-9590-40cc-ee74-6cdf6501bc8a"
      },
      "source": [
        "len(mystring)"
      ],
      "execution_count": 0,
      "outputs": [
        {
          "output_type": "execute_result",
          "data": {
            "text/plain": [
              "16"
            ]
          },
          "metadata": {
            "tags": []
          },
          "execution_count": 35
        }
      ]
    },
    {
      "cell_type": "code",
      "metadata": {
        "id": "WgkIqIvekcRI",
        "colab_type": "code",
        "colab": {},
        "outputId": "f77ffc1c-21b5-4735-9835-011fbe23c8e7"
      },
      "source": [
        "not myboolean"
      ],
      "execution_count": 0,
      "outputs": [
        {
          "output_type": "execute_result",
          "data": {
            "text/plain": [
              "False"
            ]
          },
          "metadata": {
            "tags": []
          },
          "execution_count": 38
        }
      ]
    },
    {
      "cell_type": "code",
      "metadata": {
        "id": "fAyT4XVakcRK",
        "colab_type": "code",
        "colab": {},
        "outputId": "c85833c8-9555-4e1e-f1f1-5f304937ff9b"
      },
      "source": [
        "mystring.upper()"
      ],
      "execution_count": 0,
      "outputs": [
        {
          "output_type": "execute_result",
          "data": {
            "text/plain": [
              "'THIS IS A STRING'"
            ]
          },
          "metadata": {
            "tags": []
          },
          "execution_count": 39
        }
      ]
    },
    {
      "cell_type": "code",
      "metadata": {
        "id": "3TKFn4uZkcRP",
        "colab_type": "code",
        "colab": {},
        "outputId": "89651264-5f9e-4d56-bcff-4fbaef13b1ed"
      },
      "source": [
        "mystring*10"
      ],
      "execution_count": 0,
      "outputs": [
        {
          "output_type": "execute_result",
          "data": {
            "text/plain": [
              "'This is a stringThis is a stringThis is a stringThis is a stringThis is a stringThis is a stringThis is a stringThis is a stringThis is a stringThis is a string'"
            ]
          },
          "metadata": {
            "tags": []
          },
          "execution_count": 41
        }
      ]
    },
    {
      "cell_type": "code",
      "metadata": {
        "id": "ptJtVQbPkcRU",
        "colab_type": "code",
        "colab": {},
        "outputId": "25ff7a0d-8e78-4b7a-8a75-6e56fe3b76e2"
      },
      "source": [
        "mystring*10+\"Poop\""
      ],
      "execution_count": 0,
      "outputs": [
        {
          "output_type": "execute_result",
          "data": {
            "text/plain": [
              "'This is a stringThis is a stringThis is a stringThis is a stringThis is a stringThis is a stringThis is a stringThis is a stringThis is a stringThis is a stringPoop'"
            ]
          },
          "metadata": {
            "tags": []
          },
          "execution_count": 42
        }
      ]
    },
    {
      "cell_type": "markdown",
      "metadata": {
        "id": "sw1UPY8wkcRX",
        "colab_type": "text"
      },
      "source": [
        "Python is a dynamically typed language. We don't have to tell python what a variable will be used to store when we create it. Also we can change it later without causing an issue. \n",
        "\n",
        "Not all programming language work this way. In C++, c, java we have to declare the variable type of an object when we assign it. This can be annoying, but it does mean those languages are generally faster and more memory efficient. \n",
        "\n"
      ]
    },
    {
      "cell_type": "markdown",
      "metadata": {
        "id": "bQ97gW1kkcRY",
        "colab_type": "text"
      },
      "source": [
        "## Functions\n",
        "\n",
        "Very quickly when creating programs we will want to organise our code into functions. \n",
        "\n",
        "To create a function in python you need to use the **def** keyword.\n",
        "\n",
        "\n",
        "\n",
        "\n"
      ]
    },
    {
      "cell_type": "code",
      "metadata": {
        "id": "8_BHgOHjkcRZ",
        "colab_type": "code",
        "colab": {}
      },
      "source": [
        "def add(a,b):\n",
        "    ans=a+b\n",
        "    return(ans)\n"
      ],
      "execution_count": 0,
      "outputs": []
    },
    {
      "cell_type": "code",
      "metadata": {
        "id": "e_i9FEDUkcRb",
        "colab_type": "code",
        "colab": {},
        "outputId": "3235e72b-a632-45dc-a635-dad00d93bd45"
      },
      "source": [
        "add(2,3)"
      ],
      "execution_count": 0,
      "outputs": [
        {
          "output_type": "execute_result",
          "data": {
            "text/plain": [
              "5"
            ]
          },
          "metadata": {
            "tags": []
          },
          "execution_count": 45
        }
      ]
    },
    {
      "cell_type": "code",
      "metadata": {
        "id": "QmM4b-JjkcRd",
        "colab_type": "code",
        "colab": {},
        "outputId": "f1ecec70-febf-49c0-8bd6-9e836ba3b12b"
      },
      "source": [
        "add(2.0, 5.0)"
      ],
      "execution_count": 0,
      "outputs": [
        {
          "output_type": "execute_result",
          "data": {
            "text/plain": [
              "7.0"
            ]
          },
          "metadata": {
            "tags": []
          },
          "execution_count": 46
        }
      ]
    },
    {
      "cell_type": "markdown",
      "metadata": {
        "id": "XpRa3jW7kcRp",
        "colab_type": "text"
      },
      "source": [
        "When writing your code you should seek to document your functions using roughly the below format"
      ]
    },
    {
      "cell_type": "code",
      "metadata": {
        "id": "gCLBpfq8kcRq",
        "colab_type": "code",
        "colab": {},
        "outputId": "ca103971-d65f-4b16-a395-e8b7361eab15"
      },
      "source": [
        "def my_function(arg1): \n",
        "\t\"\"\" \n",
        "\tSummary line. \n",
        "\n",
        "\tExtended description of function. \n",
        "\n",
        "\tParameters: \n",
        "\targ1 (int): Description of arg1 \n",
        "\n",
        "\tReturns: \n",
        "\tint: Description of return value \n",
        "\n",
        "\t\"\"\"\n",
        "\n",
        "\treturn arg1 \n",
        "\n",
        "print(my_function.__doc__ )\n"
      ],
      "execution_count": 0,
      "outputs": [
        {
          "output_type": "stream",
          "text": [
            " \n",
            "\tSummary line. \n",
            "\n",
            "\tExtended description of function. \n",
            "\n",
            "\tParameters: \n",
            "\targ1 (int): Description of arg1 \n",
            "\n",
            "\tReturns: \n",
            "\tint: Description of return value \n",
            "\n",
            "\t\n"
          ],
          "name": "stdout"
        }
      ]
    },
    {
      "cell_type": "code",
      "metadata": {
        "id": "XeYjUNxpkcRs",
        "colab_type": "code",
        "colab": {}
      },
      "source": [
        "#Here is our add function fully documented. We won't always do this in class, but for larger code projects this \n",
        "#is a good idea\n",
        "\n",
        "\n",
        "def add(a,b):\n",
        "    \"\"\"\n",
        "        This function just takes two arguments a and b and returns their sum \n",
        "        \n",
        "        Parameters:\n",
        "        a: input 1\n",
        "        b: input 2\n",
        "        \n",
        "        Returns:\n",
        "        a+b \n",
        "    \"\"\"\n",
        "    ans=a+b\n",
        "    return(ans)\n"
      ],
      "execution_count": 0,
      "outputs": []
    },
    {
      "cell_type": "code",
      "metadata": {
        "id": "IuAN5_pYkcRt",
        "colab_type": "code",
        "colab": {},
        "outputId": "16ab13e2-844a-4ce5-c755-b255d91066ec"
      },
      "source": [
        "print(add.__doc__)\n"
      ],
      "execution_count": 0,
      "outputs": [
        {
          "output_type": "stream",
          "text": [
            "\n",
            "        This function just takes two arguments a and b and returns their sum \n",
            "        \n",
            "        Parameters:\n",
            "        a: input 1\n",
            "        b: input 2\n",
            "        \n",
            "        Returns:\n",
            "        a+b \n",
            "    \n"
          ],
          "name": "stdout"
        }
      ]
    },
    {
      "cell_type": "code",
      "metadata": {
        "id": "BHz44ln5kcRw",
        "colab_type": "code",
        "colab": {}
      },
      "source": [
        ""
      ],
      "execution_count": 0,
      "outputs": []
    },
    {
      "cell_type": "markdown",
      "metadata": {
        "id": "K1up2tdhkcRx",
        "colab_type": "text"
      },
      "source": [
        "\n",
        "We will want to import functions into python which were written by other people. \n",
        "\n",
        "For example, we will use the numpy (numerical python=numpy) package in almost every class this semester.\n",
        "\n",
        "To let python know we want to use this package we should run the command:\n"
      ]
    },
    {
      "cell_type": "code",
      "metadata": {
        "id": "OsCP5w-JkcRy",
        "colab_type": "code",
        "colab": {}
      },
      "source": [
        "import numpy as np"
      ],
      "execution_count": 0,
      "outputs": []
    },
    {
      "cell_type": "markdown",
      "metadata": {
        "id": "vSm-tthfkcR0",
        "colab_type": "text"
      },
      "source": [
        "This let's python know to import the package and we will refer to it as \"np\" instead of having to type out \"numpy\" everytime. \n",
        "\n"
      ]
    },
    {
      "cell_type": "code",
      "metadata": {
        "id": "94nZfXhlkcR1",
        "colab_type": "code",
        "colab": {},
        "outputId": "30526477-6b27-4267-e66f-153e1adc810c"
      },
      "source": [
        "np.sin(10.0)"
      ],
      "execution_count": 0,
      "outputs": [
        {
          "output_type": "execute_result",
          "data": {
            "text/plain": [
              "-0.5440211108893698"
            ]
          },
          "metadata": {
            "tags": []
          },
          "execution_count": 59
        }
      ]
    },
    {
      "cell_type": "code",
      "metadata": {
        "id": "601iobdYkcR2",
        "colab_type": "code",
        "colab": {},
        "outputId": "39a19534-dc49-4558-bd4f-a49789861ae1"
      },
      "source": [
        "np.absolute(-81.7)"
      ],
      "execution_count": 0,
      "outputs": [
        {
          "output_type": "execute_result",
          "data": {
            "text/plain": [
              "81.7"
            ]
          },
          "metadata": {
            "tags": []
          },
          "execution_count": 60
        }
      ]
    },
    {
      "cell_type": "code",
      "metadata": {
        "id": "Ky6kJlKbkcR6",
        "colab_type": "code",
        "colab": {},
        "outputId": "af3a1e66-d700-4034-9bfe-cac8be3e3cb2"
      },
      "source": [
        "np.power(8.0,78)"
      ],
      "execution_count": 0,
      "outputs": [
        {
          "output_type": "execute_result",
          "data": {
            "text/plain": [
              "2.7606985387162255e+70"
            ]
          },
          "metadata": {
            "tags": []
          },
          "execution_count": 63
        }
      ]
    },
    {
      "cell_type": "code",
      "metadata": {
        "id": "gsIGrYqzkcR8",
        "colab_type": "code",
        "colab": {},
        "outputId": "d14782f8-0377-4c24-ba30-cc7ecdb66313"
      },
      "source": [
        "np.sqrt(45.0)"
      ],
      "execution_count": 0,
      "outputs": [
        {
          "output_type": "execute_result",
          "data": {
            "text/plain": [
              "6.708203932499369"
            ]
          },
          "metadata": {
            "tags": []
          },
          "execution_count": 64
        }
      ]
    },
    {
      "cell_type": "code",
      "metadata": {
        "id": "ESUwiBcBkcSA",
        "colab_type": "code",
        "colab": {},
        "outputId": "bdc51002-5600-4232-fd50-70fb89c96b7f"
      },
      "source": [
        "np.sqrt(-1.2)"
      ],
      "execution_count": 0,
      "outputs": [
        {
          "output_type": "stream",
          "text": [
            "/usr/lib/python3/dist-packages/ipykernel_launcher.py:1: RuntimeWarning: invalid value encountered in sqrt\n",
            "  \"\"\"Entry point for launching an IPython kernel.\n"
          ],
          "name": "stderr"
        },
        {
          "output_type": "execute_result",
          "data": {
            "text/plain": [
              "nan"
            ]
          },
          "metadata": {
            "tags": []
          },
          "execution_count": 65
        }
      ]
    },
    {
      "cell_type": "markdown",
      "metadata": {
        "id": "Deo1i4YbkcSE",
        "colab_type": "text"
      },
      "source": [
        "#### Question\n",
        "\n",
        "Write a function which will solve for the hypotenuse of a right triangle given measurements of its two other sides."
      ]
    },
    {
      "cell_type": "code",
      "metadata": {
        "id": "V3ivTO31kcSF",
        "colab_type": "code",
        "colab": {}
      },
      "source": [
        "def pythag(a,b):\n",
        "    pass"
      ],
      "execution_count": 0,
      "outputs": []
    }
  ]
}
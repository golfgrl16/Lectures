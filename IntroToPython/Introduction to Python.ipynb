{
 "cells": [
  {
   "cell_type": "markdown",
   "metadata": {
    "toc": true
   },
   "source": [
    "<h1>Table of Contents<span class=\"tocSkip\"></span></h1>\n",
    "<div class=\"toc\"><ul class=\"toc-item\"><li><span><a href=\"#Introduction-to-Python\" data-toc-modified-id=\"Introduction-to-Python-1\"><span class=\"toc-item-num\">1&nbsp;&nbsp;</span>Introduction to Python</a></span><ul class=\"toc-item\"><li><span><a href=\"#Welcome-to-MATH-2341!\" data-toc-modified-id=\"Welcome-to-MATH-2341!-1.1\"><span class=\"toc-item-num\">1.1&nbsp;&nbsp;</span>Welcome to MATH 2341!</a></span></li><li><span><a href=\"#Hello-World\" data-toc-modified-id=\"Hello-World-1.2\"><span class=\"toc-item-num\">1.2&nbsp;&nbsp;</span>Hello World</a></span></li><li><span><a href=\"#Variables-and-Types-in-Python\" data-toc-modified-id=\"Variables-and-Types-in-Python-1.3\"><span class=\"toc-item-num\">1.3&nbsp;&nbsp;</span>Variables and Types in Python</a></span><ul class=\"toc-item\"><li><ul class=\"toc-item\"><li><span><a href=\"#Question\" data-toc-modified-id=\"Question-1.3.0.1\"><span class=\"toc-item-num\">1.3.0.1&nbsp;&nbsp;</span>Question</a></span></li></ul></li><li><span><a href=\"#Other-types-we-will-use-in-scientific-computing\" data-toc-modified-id=\"Other-types-we-will-use-in-scientific-computing-1.3.1\"><span class=\"toc-item-num\">1.3.1&nbsp;&nbsp;</span>Other types we will use in scientific computing</a></span></li></ul></li><li><span><a href=\"#Functions\" data-toc-modified-id=\"Functions-1.4\"><span class=\"toc-item-num\">1.4&nbsp;&nbsp;</span>Functions</a></span><ul class=\"toc-item\"><li><ul class=\"toc-item\"><li><span><a href=\"#Question\" data-toc-modified-id=\"Question-1.4.0.1\"><span class=\"toc-item-num\">1.4.0.1&nbsp;&nbsp;</span>Question</a></span></li></ul></li></ul></li><li><span><a href=\"#Logical-Conditionals\" data-toc-modified-id=\"Logical-Conditionals-1.5\"><span class=\"toc-item-num\">1.5&nbsp;&nbsp;</span>Logical Conditionals</a></span></li><li><span><a href=\"#Loops\" data-toc-modified-id=\"Loops-1.6\"><span class=\"toc-item-num\">1.6&nbsp;&nbsp;</span>Loops</a></span></li></ul></li></ul></div>"
   ]
  },
  {
   "cell_type": "markdown",
   "metadata": {},
   "source": [
    "# Introduction to Python\n",
    "\n",
    "## Welcome to MATH 2341!\n",
    "\n",
    "In this lecture we will learn the basics of python, my favorite programming language. We call it a programming language because we can really express any computational task in python. Thousands of possible programming language exist. However, python is one of the simpler to learn languages which also happens to the be the most popular language for scientific computing, data science and machine learning. Once you learn one programming language you can quickly and easily pick up new languages. I can usually speak a new programming language at least at the novice level in a weekend. \n",
    "\n",
    "\n",
    "We will mainly be interfacing with python using jupyter notebooks _like this one_. These allow for us to write explanations and do _math_ in Markdown boxes like this one, and then add some python code to a new box (see below). \n",
    "\n",
    "Markdown is pretty easy to use to if you want to learn some tips and tricks, either rob some the tricks you will see me use in the lecture notes or _check out the help menu above_. \n",
    "\n",
    "A few gotchas to watch out for:\n",
    "\n",
    "* We will be using python 3 in this class. That is the new version of python, lots of code on the internet is written in python 2. It isn't hard to convert but if something you find on the internet isn't working, this may be the cause.\n",
    "\n",
    "* Python uses to tabs to establish code blocks (more on this later) just be intentional about using TAB in python programs\n",
    "\n",
    "\n",
    "\n",
    "\n",
    "\n",
    "\n"
   ]
  },
  {
   "cell_type": "markdown",
   "metadata": {},
   "source": [
    "## Hello World\n",
    "\n",
    "The classic first program to write in any new programming language is the \"Hello World\" program. \n",
    "\n",
    "Python makes this very, very simple. \n",
    "\n",
    "We simply have to type the below in, to execute a cell in python in a jupyter notebook simply select the \n",
    "cell and either click **\"Run\"** in the above menu or do **SHIFT+ENTER**"
   ]
  },
  {
   "cell_type": "code",
   "execution_count": 5,
   "metadata": {},
   "outputs": [
    {
     "name": "stdout",
     "output_type": "stream",
     "text": [
      "Hello World\n"
     ]
    }
   ],
   "source": [
    "#My first program!\n",
    "print(\"Hello World\")"
   ]
  },
  {
   "cell_type": "markdown",
   "metadata": {},
   "source": [
    "The \\# above tells python that line should be ignored, those are called comment lines. They can be very useful. I add lots of comments to my code!\n",
    "\n",
    "The second line calls the __print__ function and passes in the argument \"Hello World\"\n",
    "\n",
    "We can also define our message as a variable. The equals sign tells python to store a variable in memory for later use. "
   ]
  },
  {
   "cell_type": "code",
   "execution_count": 7,
   "metadata": {},
   "outputs": [
    {
     "name": "stdout",
     "output_type": "stream",
     "text": [
      "Hello World\n"
     ]
    }
   ],
   "source": [
    "#This does the same thing\n",
    "\n",
    "message=\"Hello World\"\n",
    "print(message)\n",
    "\n"
   ]
  },
  {
   "cell_type": "markdown",
   "metadata": {},
   "source": [
    "<font color=red> Update the code to print a message of your choice </font> "
   ]
  },
  {
   "cell_type": "code",
   "execution_count": null,
   "metadata": {},
   "outputs": [],
   "source": [
    "#Put your answer here\n",
    "\n"
   ]
  },
  {
   "cell_type": "markdown",
   "metadata": {},
   "source": [
    "## Variables and Types in Python\n",
    "\n",
    "When python stores one of our variables in the computer memory it has to assign it a type. Let's start with numbers. For those python has two main types:\n",
    "\n",
    "* integers: These are whole numbers 1,-1,345,567. \n",
    "\n",
    "* float: decimal numbers are called floating point numbers. Arithmitic with them in NOT exact and is subject to round off errors. This is simply because they have a finite amount of decimal places they can store in memory.\n",
    "\n",
    "* complex: Python can also store complex numbers (real, imaginary). \n",
    "\n",
    "Python has many more built-in types, and we will see later in the class how we can define our own. \n",
    "\n",
    "\n",
    "\n"
   ]
  },
  {
   "cell_type": "code",
   "execution_count": 8,
   "metadata": {},
   "outputs": [
    {
     "data": {
      "text/plain": [
       "int"
      ]
     },
     "execution_count": 8,
     "metadata": {},
     "output_type": "execute_result"
    }
   ],
   "source": [
    "#Notice that I entered 1 without a decimal to tell python to use an integer\n",
    "\n",
    "a=1\n",
    "type(a)"
   ]
  },
  {
   "cell_type": "code",
   "execution_count": 15,
   "metadata": {},
   "outputs": [
    {
     "data": {
      "text/plain": [
       "float"
      ]
     },
     "execution_count": 15,
     "metadata": {},
     "output_type": "execute_result"
    }
   ],
   "source": [
    "#Now define \"a\" as a float\n",
    "\n",
    "b=6.0\n",
    "\n",
    "type(b)"
   ]
  },
  {
   "cell_type": "markdown",
   "metadata": {},
   "source": [
    "Generally when doing arithmitic with int and floats, if all entries are of one type then so will the result.\n",
    "\n",
    "int+int=int\n",
    "float+float=float\n",
    "int*int=int\n",
    "etc\n",
    "\n",
    "\n",
    "If we mix up floats and integers in a computation then a float will be returned. This is sometimes called type promotion."
   ]
  },
  {
   "cell_type": "code",
   "execution_count": 18,
   "metadata": {},
   "outputs": [
    {
     "name": "stdout",
     "output_type": "stream",
     "text": [
      "Add:  7.0 <class 'float'>\n",
      "Subtract:  -5.0 <class 'float'>\n",
      "Mult:  6.0 <class 'float'>\n",
      "Divide:  0.16666666666666666 <class 'float'>\n"
     ]
    }
   ],
   "source": [
    "print(\"Add: \", a+b, type(a+b))\n",
    "print(\"Subtract: \", a-b, type(a+b))\n",
    "print(\"Mult: \", a*b, type(a+b))\n",
    "print(\"Divide: \", a/b, type(a+b))"
   ]
  },
  {
   "cell_type": "markdown",
   "metadata": {},
   "source": [
    "The exception to the above rule is if we **divide** two integers by one another. Then python will return a float. "
   ]
  },
  {
   "cell_type": "code",
   "execution_count": 20,
   "metadata": {},
   "outputs": [
    {
     "data": {
      "text/plain": [
       "0.8"
      ]
     },
     "execution_count": 20,
     "metadata": {},
     "output_type": "execute_result"
    }
   ],
   "source": [
    "4/5"
   ]
  },
  {
   "cell_type": "code",
   "execution_count": 21,
   "metadata": {},
   "outputs": [
    {
     "data": {
      "text/plain": [
       "5.0"
      ]
     },
     "execution_count": 21,
     "metadata": {},
     "output_type": "execute_result"
    }
   ],
   "source": [
    "10/2"
   ]
  },
  {
   "cell_type": "markdown",
   "metadata": {},
   "source": [
    "If we want to force python to do an integer divide then use the // operator. Now the returned value for dividing two integers will also be an integer. However, be careful to make sure then is something you actually want. \n",
    "\n",
    "* In older versions of python, the default division behaved like the //. So be careful converting old code. "
   ]
  },
  {
   "cell_type": "code",
   "execution_count": 22,
   "metadata": {},
   "outputs": [
    {
     "data": {
      "text/plain": [
       "5"
      ]
     },
     "execution_count": 22,
     "metadata": {},
     "output_type": "execute_result"
    }
   ],
   "source": [
    "10 // 2"
   ]
  },
  {
   "cell_type": "code",
   "execution_count": 23,
   "metadata": {},
   "outputs": [
    {
     "data": {
      "text/plain": [
       "0"
      ]
     },
     "execution_count": 23,
     "metadata": {},
     "output_type": "execute_result"
    }
   ],
   "source": [
    "4 // 5"
   ]
  },
  {
   "cell_type": "markdown",
   "metadata": {},
   "source": [
    "Integer division will always round down. \n",
    "\n",
    "To get the remainder from a division we can use the mod operator %\n",
    "\n"
   ]
  },
  {
   "cell_type": "code",
   "execution_count": 24,
   "metadata": {},
   "outputs": [
    {
     "data": {
      "text/plain": [
       "1"
      ]
     },
     "execution_count": 24,
     "metadata": {},
     "output_type": "execute_result"
    }
   ],
   "source": [
    "5 % 2"
   ]
  },
  {
   "cell_type": "code",
   "execution_count": 25,
   "metadata": {},
   "outputs": [
    {
     "data": {
      "text/plain": [
       "0.20000000000000018"
      ]
     },
     "execution_count": 25,
     "metadata": {},
     "output_type": "execute_result"
    }
   ],
   "source": [
    "6.2 % 2"
   ]
  },
  {
   "cell_type": "code",
   "execution_count": 26,
   "metadata": {},
   "outputs": [
    {
     "data": {
      "text/plain": [
       "0"
      ]
     },
     "execution_count": 26,
     "metadata": {},
     "output_type": "execute_result"
    }
   ],
   "source": [
    "4 % 2"
   ]
  },
  {
   "cell_type": "markdown",
   "metadata": {},
   "source": [
    "We can always convert between an integer and float using the type casting functions\n",
    "\n"
   ]
  },
  {
   "cell_type": "code",
   "execution_count": 27,
   "metadata": {},
   "outputs": [
    {
     "data": {
      "text/plain": [
       "2"
      ]
     },
     "execution_count": 27,
     "metadata": {},
     "output_type": "execute_result"
    }
   ],
   "source": [
    "int(2.0)"
   ]
  },
  {
   "cell_type": "code",
   "execution_count": 28,
   "metadata": {},
   "outputs": [
    {
     "data": {
      "text/plain": [
       "2"
      ]
     },
     "execution_count": 28,
     "metadata": {},
     "output_type": "execute_result"
    }
   ],
   "source": [
    "int(2.99) # rounds down"
   ]
  },
  {
   "cell_type": "code",
   "execution_count": 29,
   "metadata": {},
   "outputs": [
    {
     "data": {
      "text/plain": [
       "567.0"
      ]
     },
     "execution_count": 29,
     "metadata": {},
     "output_type": "execute_result"
    }
   ],
   "source": [
    "float(567)"
   ]
  },
  {
   "cell_type": "markdown",
   "metadata": {},
   "source": [
    "To find a exponential we need the ** operator"
   ]
  },
  {
   "cell_type": "code",
   "execution_count": 30,
   "metadata": {},
   "outputs": [
    {
     "data": {
      "text/plain": [
       "1024"
      ]
     },
     "execution_count": 30,
     "metadata": {},
     "output_type": "execute_result"
    }
   ],
   "source": [
    "2**10"
   ]
  },
  {
   "cell_type": "code",
   "execution_count": 31,
   "metadata": {},
   "outputs": [
    {
     "data": {
      "text/plain": [
       "1024.0"
      ]
     },
     "execution_count": 31,
     "metadata": {},
     "output_type": "execute_result"
    }
   ],
   "source": [
    "2.0**10"
   ]
  },
  {
   "cell_type": "code",
   "execution_count": 32,
   "metadata": {},
   "outputs": [
    {
     "data": {
      "text/plain": [
       "1024.0"
      ]
     },
     "execution_count": 32,
     "metadata": {},
     "output_type": "execute_result"
    }
   ],
   "source": [
    "2**10.0"
   ]
  },
  {
   "cell_type": "markdown",
   "metadata": {},
   "source": [
    "#### Question\n",
    "\n",
    "\n",
    "**Why would we use an integer instead of just using floats for every number????**\n",
    "\n"
   ]
  },
  {
   "cell_type": "markdown",
   "metadata": {},
   "source": [
    "### Other types we will use in scientific computing\n",
    "\n",
    "Just a few quick other types we will use in scientific computing\n",
    "\n",
    "Boolean: This is just True or False. This will be used to perform logical comparisons.\n",
    "\n",
    "Strings: We have seen this as part of the hello world program. \n",
    "\n",
    "More about these later. Strings are declared using quotes around the value. \n",
    "\n"
   ]
  },
  {
   "cell_type": "code",
   "execution_count": 34,
   "metadata": {},
   "outputs": [],
   "source": [
    "myboolean=True\n",
    "\n",
    "mystring=\"This is a string\""
   ]
  },
  {
   "cell_type": "code",
   "execution_count": 35,
   "metadata": {},
   "outputs": [
    {
     "data": {
      "text/plain": [
       "16"
      ]
     },
     "execution_count": 35,
     "metadata": {},
     "output_type": "execute_result"
    }
   ],
   "source": [
    "len(mystring)"
   ]
  },
  {
   "cell_type": "code",
   "execution_count": 38,
   "metadata": {},
   "outputs": [
    {
     "data": {
      "text/plain": [
       "False"
      ]
     },
     "execution_count": 38,
     "metadata": {},
     "output_type": "execute_result"
    }
   ],
   "source": [
    "not myboolean"
   ]
  },
  {
   "cell_type": "code",
   "execution_count": 39,
   "metadata": {},
   "outputs": [
    {
     "data": {
      "text/plain": [
       "'THIS IS A STRING'"
      ]
     },
     "execution_count": 39,
     "metadata": {},
     "output_type": "execute_result"
    }
   ],
   "source": [
    "mystring.upper()"
   ]
  },
  {
   "cell_type": "code",
   "execution_count": 41,
   "metadata": {},
   "outputs": [
    {
     "data": {
      "text/plain": [
       "'This is a stringThis is a stringThis is a stringThis is a stringThis is a stringThis is a stringThis is a stringThis is a stringThis is a stringThis is a string'"
      ]
     },
     "execution_count": 41,
     "metadata": {},
     "output_type": "execute_result"
    }
   ],
   "source": [
    "mystring*10"
   ]
  },
  {
   "cell_type": "code",
   "execution_count": 42,
   "metadata": {},
   "outputs": [
    {
     "data": {
      "text/plain": [
       "'This is a stringThis is a stringThis is a stringThis is a stringThis is a stringThis is a stringThis is a stringThis is a stringThis is a stringThis is a stringPoop'"
      ]
     },
     "execution_count": 42,
     "metadata": {},
     "output_type": "execute_result"
    }
   ],
   "source": [
    "mystring*10+\"Poop\""
   ]
  },
  {
   "cell_type": "markdown",
   "metadata": {},
   "source": [
    "Python is a dynamically typed language. We don't have to tell python what a variable will be used to store when we create it. Also we can change it later without causing an issue. \n",
    "\n",
    "Not all programming language work this way. In C++, c, java we have to declare the variable type of an object when we assign it. This can be annoying, but it does mean those languages are generally faster and more memory efficient. \n",
    "\n"
   ]
  },
  {
   "cell_type": "markdown",
   "metadata": {},
   "source": [
    "## Functions\n",
    "\n",
    "Very quickly when creating programs we will want to organise our code into functions. \n",
    "\n",
    "To create a function in python you need to use the **def** keyword.\n",
    "\n",
    "\n",
    "\n",
    "\n"
   ]
  },
  {
   "cell_type": "code",
   "execution_count": 52,
   "metadata": {},
   "outputs": [],
   "source": [
    "def add(a,b):\n",
    "    ans=a+b\n",
    "    return(ans)\n"
   ]
  },
  {
   "cell_type": "code",
   "execution_count": 45,
   "metadata": {},
   "outputs": [
    {
     "data": {
      "text/plain": [
       "5"
      ]
     },
     "execution_count": 45,
     "metadata": {},
     "output_type": "execute_result"
    }
   ],
   "source": [
    "add(2,3)"
   ]
  },
  {
   "cell_type": "code",
   "execution_count": 46,
   "metadata": {},
   "outputs": [
    {
     "data": {
      "text/plain": [
       "7.0"
      ]
     },
     "execution_count": 46,
     "metadata": {},
     "output_type": "execute_result"
    }
   ],
   "source": [
    "add(2.0, 5.0)"
   ]
  },
  {
   "cell_type": "markdown",
   "metadata": {},
   "source": [
    "When writing your code you should seek to document your functions using roughly the below format"
   ]
  },
  {
   "cell_type": "code",
   "execution_count": 51,
   "metadata": {},
   "outputs": [
    {
     "name": "stdout",
     "output_type": "stream",
     "text": [
      " \n",
      "\tSummary line. \n",
      "\n",
      "\tExtended description of function. \n",
      "\n",
      "\tParameters: \n",
      "\targ1 (int): Description of arg1 \n",
      "\n",
      "\tReturns: \n",
      "\tint: Description of return value \n",
      "\n",
      "\t\n"
     ]
    }
   ],
   "source": [
    "def my_function(arg1): \n",
    "\t\"\"\" \n",
    "\tSummary line. \n",
    "\n",
    "\tExtended description of function. \n",
    "\n",
    "\tParameters: \n",
    "\targ1 (int): Description of arg1 \n",
    "\n",
    "\tReturns: \n",
    "\tint: Description of return value \n",
    "\n",
    "\t\"\"\"\n",
    "\n",
    "\treturn arg1 \n",
    "\n",
    "print(my_function.__doc__ )\n"
   ]
  },
  {
   "cell_type": "code",
   "execution_count": 53,
   "metadata": {},
   "outputs": [],
   "source": [
    "#Here is our add function fully documented. We won't always do this in class, but for larger code projects this \n",
    "#is a good idea\n",
    "\n",
    "\n",
    "def add(a,b):\n",
    "    \"\"\"\n",
    "        This function just takes two arguments a and b and returns their sum \n",
    "        \n",
    "        Parameters:\n",
    "        a: input 1\n",
    "        b: input 2\n",
    "        \n",
    "        Returns:\n",
    "        a+b \n",
    "    \"\"\"\n",
    "    ans=a+b\n",
    "    return(ans)\n"
   ]
  },
  {
   "cell_type": "code",
   "execution_count": 54,
   "metadata": {},
   "outputs": [
    {
     "name": "stdout",
     "output_type": "stream",
     "text": [
      "\n",
      "        This function just takes two arguments a and b and returns their sum \n",
      "        \n",
      "        Parameters:\n",
      "        a: input 1\n",
      "        b: input 2\n",
      "        \n",
      "        Returns:\n",
      "        a+b \n",
      "    \n"
     ]
    }
   ],
   "source": [
    "print(add.__doc__)\n"
   ]
  },
  {
   "cell_type": "code",
   "execution_count": null,
   "metadata": {},
   "outputs": [],
   "source": []
  },
  {
   "cell_type": "markdown",
   "metadata": {},
   "source": [
    "\n",
    "We will want to import functions into python which were written by other people. \n",
    "\n",
    "For example, we will use the numpy (numerical python=numpy) package in almost every class this semester.\n",
    "\n",
    "To let python know we want to use this package we should run the command:\n"
   ]
  },
  {
   "cell_type": "code",
   "execution_count": 58,
   "metadata": {},
   "outputs": [],
   "source": [
    "import numpy as np"
   ]
  },
  {
   "cell_type": "markdown",
   "metadata": {},
   "source": [
    "This let's python know to import the package and we will refer to it as \"np\" instead of having to type out \"numpy\" everytime. \n",
    "\n"
   ]
  },
  {
   "cell_type": "code",
   "execution_count": 59,
   "metadata": {},
   "outputs": [
    {
     "data": {
      "text/plain": [
       "-0.5440211108893698"
      ]
     },
     "execution_count": 59,
     "metadata": {},
     "output_type": "execute_result"
    }
   ],
   "source": [
    "np.sin(10.0)"
   ]
  },
  {
   "cell_type": "code",
   "execution_count": 60,
   "metadata": {},
   "outputs": [
    {
     "data": {
      "text/plain": [
       "81.7"
      ]
     },
     "execution_count": 60,
     "metadata": {},
     "output_type": "execute_result"
    }
   ],
   "source": [
    "np.absolute(-81.7)"
   ]
  },
  {
   "cell_type": "code",
   "execution_count": 63,
   "metadata": {},
   "outputs": [
    {
     "data": {
      "text/plain": [
       "2.7606985387162255e+70"
      ]
     },
     "execution_count": 63,
     "metadata": {},
     "output_type": "execute_result"
    }
   ],
   "source": [
    "np.power(8.0,78)"
   ]
  },
  {
   "cell_type": "code",
   "execution_count": 64,
   "metadata": {},
   "outputs": [
    {
     "data": {
      "text/plain": [
       "6.708203932499369"
      ]
     },
     "execution_count": 64,
     "metadata": {},
     "output_type": "execute_result"
    }
   ],
   "source": [
    "np.sqrt(45.0)"
   ]
  },
  {
   "cell_type": "code",
   "execution_count": 65,
   "metadata": {},
   "outputs": [
    {
     "name": "stderr",
     "output_type": "stream",
     "text": [
      "/usr/lib/python3/dist-packages/ipykernel_launcher.py:1: RuntimeWarning: invalid value encountered in sqrt\n",
      "  \"\"\"Entry point for launching an IPython kernel.\n"
     ]
    },
    {
     "data": {
      "text/plain": [
       "nan"
      ]
     },
     "execution_count": 65,
     "metadata": {},
     "output_type": "execute_result"
    }
   ],
   "source": [
    "np.sqrt(-1.2)"
   ]
  },
  {
   "cell_type": "markdown",
   "metadata": {},
   "source": [
    "#### Question\n",
    "\n",
    "Write a function which will solve for the hypotenuse of a right triangle given measurements of its two other sides."
   ]
  },
  {
   "cell_type": "code",
   "execution_count": 67,
   "metadata": {},
   "outputs": [],
   "source": [
    "def pythag(a,b):\n",
    "    pass"
   ]
  },
  {
   "cell_type": "markdown",
   "metadata": {},
   "source": [
    "## Logical Conditionals"
   ]
  },
  {
   "cell_type": "code",
   "execution_count": null,
   "metadata": {},
   "outputs": [],
   "source": []
  },
  {
   "cell_type": "markdown",
   "metadata": {},
   "source": [
    "## Loops"
   ]
  },
  {
   "cell_type": "code",
   "execution_count": null,
   "metadata": {},
   "outputs": [],
   "source": []
  }
 ],
 "metadata": {
  "kernelspec": {
   "display_name": "Python 3",
   "language": "python",
   "name": "python3"
  },
  "language_info": {
   "codemirror_mode": {
    "name": "ipython",
    "version": 3
   },
   "file_extension": ".py",
   "mimetype": "text/x-python",
   "name": "python",
   "nbconvert_exporter": "python",
   "pygments_lexer": "ipython3",
   "version": "3.6.8"
  },
  "toc": {
   "base_numbering": 1,
   "nav_menu": {
    "height": "403px",
    "width": "256px"
   },
   "number_sections": true,
   "sideBar": true,
   "skip_h1_title": false,
   "title_cell": "Table of Contents",
   "title_sidebar": "Contents",
   "toc_cell": true,
   "toc_position": {},
   "toc_section_display": true,
   "toc_window_display": false
  }
 },
 "nbformat": 4,
 "nbformat_minor": 2
}
